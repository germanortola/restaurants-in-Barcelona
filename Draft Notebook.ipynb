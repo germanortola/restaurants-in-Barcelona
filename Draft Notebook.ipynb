{
 "cells": [
  {
   "cell_type": "code",
   "execution_count": 32,
   "metadata": {},
   "outputs": [],
   "source": [
    "import requests\n",
    "from bs4 import BeautifulSoup\n",
    "import pandas as pd\n"
   ]
  },
  {
   "cell_type": "code",
   "execution_count": 54,
   "metadata": {},
   "outputs": [],
   "source": [
    "headers = {\n",
    "    'User-Agent': 'Mozilla/5.0 (Windows NT 10.0; Win64; x64) AppleWebKit/537.36 (KHTML, like Gecko) Chrome/58.0.3029.110 Safari/537.36 Edge/16.16299',\n",
    "    'Accept-Language': 'en-US,en;q=0.5'\n",
    "}\n",
    "\n",
    "url = 'https://www.thefork.es/search?cc=16774-c1d&cityId=41710&filters[price][start]=20&gclid=CjwKCAiAl9efBhAkEiwA4TorimzQyS50O9bY9ha70tETkVVeuLEk4XwIIftcLJyfFTn2H-_zUkL0choCAXMQAvD_BwE&restaurantTagId[]=52&restaurantTagId[]=144&restaurantTagId[]=297&restaurantTagId[]=72&restaurantTagId[]=606&restaurantTagId[]=94&restaurantTagId[]=6142&restaurantTagId[]=100&restaurantTagId[]=37&restaurantTagId[]=609&restaurantTagId[]=143&restaurantTagId[]=145&restaurantTagId[]=155&restaurantTagId[]=121&restaurantTagId[]=204&restaurantTagId[]=225&restaurantTagId[]=244&restaurantTagId[]=797&restaurantTagId[]=152'\n",
    "\n",
    "response = requests.get(url, headers=headers)\n"
   ]
  },
  {
   "cell_type": "code",
   "execution_count": 55,
   "metadata": {},
   "outputs": [
    {
     "name": "stdout",
     "output_type": "stream",
     "text": [
      "Restaurant name: Speakeasy\n",
      "Link: https://www.thefork.es/restaurante/speakeasy-r20610\n",
      "Rating: 9.6\n",
      "Address: Carrer de Requesens, 7,\n",
      "    08001,\n",
      "    Barcelona\n",
      "Price: medio\n"
     ]
    }
   ],
   "source": [
    "soup = BeautifulSoup(response.content, 'html.parser')\n",
    "restaurant = soup.find_all('a', class_='css-6bxcy ei5oc307')[0]\n",
    "\n",
    "#name = restaurant[0].text\n",
    "#link = 'https://www.thefork.es' + restaurant[0 ]['href']\n",
    "rating = float(soup.find_all('span', class_='css-13xokbo e7dhrrp0')[0].text.split('/')[0].replace(',', '.'))\n",
    "address = soup.find_all('p', class_='css-ibqusf eulusyj0')[0].text.strip()\n",
    "price_element = soup.find('p', class_='css-6pr0fg eulusyj0')\n",
    "price = price_element.text.split()[1].replace('.', '')\n",
    "\n",
    "\n",
    "print(f'Restaurant name: {name}')\n",
    "print(f'Link: {link}')\n",
    "print(f'Rating: {rating}')\n",
    "print(f'Address: {address}')\n",
    "print(f'Price: {price}')\n"
   ]
  },
  {
   "cell_type": "code",
   "execution_count": 52,
   "metadata": {},
   "outputs": [
    {
     "ename": "IndexError",
     "evalue": "list index out of range",
     "output_type": "error",
     "traceback": [
      "\u001b[1;31m---------------------------------------------------------------------------\u001b[0m",
      "\u001b[1;31mIndexError\u001b[0m                                Traceback (most recent call last)",
      "\u001b[1;32mc:\\Users\\germa\\github\\restaurants-in-Barcelona\\Draft Notebook.ipynb Cell 4\u001b[0m in \u001b[0;36m<cell line: 2>\u001b[1;34m()\u001b[0m\n\u001b[0;32m      <a href='vscode-notebook-cell:/c%3A/Users/germa/github/restaurants-in-Barcelona/Draft%20Notebook.ipynb#X25sZmlsZQ%3D%3D?line=0'>1</a>\u001b[0m soup \u001b[39m=\u001b[39m BeautifulSoup(response\u001b[39m.\u001b[39mcontent, \u001b[39m'\u001b[39m\u001b[39mhtml.parser\u001b[39m\u001b[39m'\u001b[39m)\n\u001b[1;32m----> <a href='vscode-notebook-cell:/c%3A/Users/germa/github/restaurants-in-Barcelona/Draft%20Notebook.ipynb#X25sZmlsZQ%3D%3D?line=1'>2</a>\u001b[0m restaurant \u001b[39m=\u001b[39m soup\u001b[39m.\u001b[39;49mfind_all(\u001b[39m'\u001b[39;49m\u001b[39ma\u001b[39;49m\u001b[39m'\u001b[39;49m, class_\u001b[39m=\u001b[39;49m\u001b[39m'\u001b[39;49m\u001b[39mcss-6bxcy ei5oc307\u001b[39;49m\u001b[39m'\u001b[39;49m)[\u001b[39m0\u001b[39;49m]\n\u001b[0;32m      <a href='vscode-notebook-cell:/c%3A/Users/germa/github/restaurants-in-Barcelona/Draft%20Notebook.ipynb#X25sZmlsZQ%3D%3D?line=3'>4</a>\u001b[0m name \u001b[39m=\u001b[39m restaurant\u001b[39m.\u001b[39mtext\n\u001b[0;32m      <a href='vscode-notebook-cell:/c%3A/Users/germa/github/restaurants-in-Barcelona/Draft%20Notebook.ipynb#X25sZmlsZQ%3D%3D?line=4'>5</a>\u001b[0m link \u001b[39m=\u001b[39m \u001b[39m'\u001b[39m\u001b[39mhttps://www.thefork.es\u001b[39m\u001b[39m'\u001b[39m \u001b[39m+\u001b[39m restaurant[\u001b[39m'\u001b[39m\u001b[39mhref\u001b[39m\u001b[39m'\u001b[39m]\n",
      "\u001b[1;31mIndexError\u001b[0m: list index out of range"
     ]
    }
   ],
   "source": [
    "soup = BeautifulSoup(response.content, 'html.parser')\n",
    "restaurant = soup.find_all('a', class_='css-6bxcy ei5oc307')[0]\n",
    "\n",
    "name = restaurant.text\n",
    "link = 'https://www.thefork.es' + restaurant['href']\n",
    "rating = float(soup.find_all('span', class_='css-13xokbo e7dhrrp0')[0].text.split('/')[0].replace(',', '.'))\n",
    "address = soup.find_all('p', class_='css-ibqusf eulusyj0')[0].text.strip()\n",
    "price = int(restaurant.find('span', class_='css-6pr0fg eulusyj0').find_all('span')[1].text.split()[0])\n",
    "\n",
    "print(f'Restaurant name: {name}')\n",
    "print(f'Link: {link}')\n",
    "print(f'Rating: {rating}')\n",
    "print(f'Address: {address}')\n",
    "print(f'Price: {price}')\n",
    "\n"
   ]
  },
  {
   "cell_type": "code",
   "execution_count": 53,
   "metadata": {},
   "outputs": [
    {
     "name": "stdout",
     "output_type": "stream",
     "text": [
      "<html><head><title>thefork.es</title><style>#cmsg{animation: A 1.5s;}@keyframes A{0%{opacity:0;}99%{opacity:0;}100%{opacity:1;}}</style></head><body style=\"margin:0\"><p id=\"cmsg\">Please enable JS and disable any ad blocker</p><script data-cfasync=\"false\">var dd={'rt':'c','cid':'AHrlqAAAAAMAerjMXdVLd1kAiy9xGQ==','hsh':'4980A61279181687DE605B235F81B9','t':'bv','s':326,'e':'10111f2da222f23bd4369fce4a21c215596390ccff5a4303bf7dcd1908af46c3','host':'geo.captcha-delivery.com'}</script><script data-cfasync=\"false\" src=\"https://ct.captcha-delivery.com/c.js\"></script></body></html>\n",
      "\n"
     ]
    }
   ],
   "source": [
    "print(soup)"
   ]
  },
  {
   "cell_type": "code",
   "execution_count": 62,
   "metadata": {},
   "outputs": [
    {
     "name": "stdout",
     "output_type": "stream",
     "text": [
      "[{'name': 'Cal Robert', 'link': 'https://www.thefork.es/restaurante/cal-robert-r427429', 'rating': None, 'reviews': None, 'price': None}, {'name': 'Transilvania Barcelona', 'link': 'https://www.thefork.es/restaurante/transilvania-barcelona-r62395', 'rating': None, 'reviews': None, 'price': None}, {'name': 'Café Kafka', 'link': 'https://www.thefork.es/restaurante/cafe-kafka-r55251', 'rating': None, 'reviews': None, 'price': None}, {'name': 'Caelis', 'link': 'https://www.thefork.es/restaurante/caelis-r25836', 'rating': None, 'reviews': None, 'price': None}, {'name': \"L' Origen\", 'link': 'https://www.thefork.es/restaurante/l-origen-r568081', 'rating': None, 'reviews': None, 'price': None}, {'name': 'Virens', 'link': 'https://www.thefork.es/restaurante/virens-r609695', 'rating': None, 'reviews': None, 'price': None}, {'name': 'Speakeasy', 'link': 'https://www.thefork.es/restaurante/speakeasy-r20610', 'rating': None, 'reviews': None, 'price': None}, {'name': 'Don Asador', 'link': 'https://www.thefork.es/restaurante/don-asador-r680425', 'rating': None, 'reviews': None, 'price': None}, {'name': 'Tandoori Nights', 'link': 'https://www.thefork.es/restaurante/tandoori-nights-r314269', 'rating': None, 'reviews': None, 'price': None}, {'name': 'Antic Tapas Ferran', 'link': 'https://www.thefork.es/restaurante/antic-tapas-ferran-r745140', 'rating': None, 'reviews': None, 'price': None}, {'name': 'Nineteen Restaurant - Olivia Plaza Hotel', 'link': 'https://www.thefork.es/restaurante/nineteen-restaurant-olivia-plaza-hotel-r5395', 'rating': None, 'reviews': None, 'price': None}, {'name': 'Shanghai Stories', 'link': 'https://www.thefork.es/restaurante/shanghai-stories-r499177', 'rating': None, 'reviews': None, 'price': None}, {'name': 'Tokyo Sushi', 'link': 'https://www.thefork.es/restaurante/tokyo-sushi-r27377', 'rating': None, 'reviews': None, 'price': None}, {'name': 'Mizuki', 'link': 'https://www.thefork.es/restaurante/mizuki-r628291', 'rating': None, 'reviews': None, 'price': None}, {'name': 'Grill restaurant', 'link': 'https://www.thefork.es/restaurante/grill-restaurant-r637953', 'rating': None, 'reviews': None, 'price': None}, {'name': 'La Cuina de Laietana', 'link': 'https://www.thefork.es/restaurante/la-cuina-de-laietana-r366565', 'rating': None, 'reviews': None, 'price': None}, {'name': 'La Maroteca - Peix Salvatge', 'link': 'https://www.thefork.es/restaurante/la-maroteca-peix-salvatge-r353659', 'rating': None, 'reviews': None, 'price': None}, {'name': 'Boraz', 'link': 'https://www.thefork.es/restaurante/boraz-r572359', 'rating': None, 'reviews': None, 'price': None}, {'name': 'Seventeen - Hotel Olivia Balmes', 'link': 'https://www.thefork.es/restaurante/seventeen-hotel-olivia-balmes-r73702', 'rating': None, 'reviews': None, 'price': None}, {'name': 'Pirineus 1975', 'link': 'https://www.thefork.es/restaurante/pirineus-1975-r741991', 'rating': None, 'reviews': None, 'price': None}, {'name': 'Picasso', 'link': 'https://www.thefork.es/restaurante/picasso-r665781', 'rating': None, 'reviews': None, 'price': None}, {'name': 'Gandhi Executive Food', 'link': 'https://www.thefork.es/restaurante/gandhi-executive-food-r640263', 'rating': None, 'reviews': None, 'price': None}, {'name': 'Ziryab', 'link': 'https://www.thefork.es/restaurante/ziryab-r33292', 'rating': None, 'reviews': None, 'price': None}, {'name': 'Casa Fernández', 'link': 'https://www.thefork.es/restaurante/casa-fernandez-r20612', 'rating': None, 'reviews': None, 'price': None}, {'name': \"El Jardí de L'Ateneu\", 'link': 'https://www.thefork.es/restaurante/el-jardi-de-l-ateneu-r745378', 'rating': None, 'reviews': None, 'price': None}]\n"
     ]
    }
   ],
   "source": [
    "\n",
    "\n",
    "restaurants = []\n",
    "for restaurant in soup.find_all('a', class_='css-6bxcy ei5oc307'):\n",
    "    name = restaurant.text.strip()\n",
    "    link = 'https://www.thefork.es' + restaurant['href']\n",
    "    rating_element = restaurant.find('span', class_='css-13xokbo e7dhrrp0')\n",
    "    rating = float(rating_element.text.split('/')[0].replace(',', '.')) if rating_element is not None else None\n",
    "\n",
    "    #rating = float(restaurant.find('span', class_='css-13xokbo e7dhrrp0').text.split('/')[0].replace(',', '.'))\n",
    "    \n",
    "    reviews_element = restaurant.find('span', class_='css-1nqbnmr e1qvo2ff3')\n",
    "    reviews = int(reviews_element.text.split()[0]) if reviews_element is not None else None\n",
    "\n",
    "    #reviews = int(restaurant.find('span', class_='css-1nqbnmr e1qvo2ff3').text.split()[0])\n",
    "    \n",
    "    price_element = restaurant.find('span', class_='css-6pr0fg eulusyj0')\n",
    "    price = int(price_element.find_all('span')[1].text.split()[0]) if price_element is not None and len(price_element.find_all('span')) > 1 else None\n",
    "\n",
    "    #price = int(restaurant.find('span', class_='css-6pr0fg eulusyj0').find_all('span')[1].text.split()[0])\n",
    "    restaurants.append({'name': name, 'link': link, 'rating': rating, 'reviews': reviews, 'price': price})\n",
    "\n",
    "print(restaurants)\n"
   ]
  }
 ],
 "metadata": {
  "kernelspec": {
   "display_name": "ironhack",
   "language": "python",
   "name": "python3"
  },
  "language_info": {
   "codemirror_mode": {
    "name": "ipython",
    "version": 3
   },
   "file_extension": ".py",
   "mimetype": "text/x-python",
   "name": "python",
   "nbconvert_exporter": "python",
   "pygments_lexer": "ipython3",
   "version": "3.10.4"
  },
  "orig_nbformat": 4,
  "vscode": {
   "interpreter": {
    "hash": "4fb3542bd4955df1568bd30556108f2a509a772a1c7029bb09d83fc983cd9288"
   }
  }
 },
 "nbformat": 4,
 "nbformat_minor": 2
}
