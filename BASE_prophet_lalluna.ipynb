{
 "cells": [
  {
   "cell_type": "code",
   "execution_count": 1,
   "metadata": {},
   "outputs": [
    {
     "name": "stderr",
     "output_type": "stream",
     "text": [
      "c:\\Users\\germa\\miniconda3\\lib\\site-packages\\tqdm\\auto.py:22: TqdmWarning: IProgress not found. Please update jupyter and ipywidgets. See https://ipywidgets.readthedocs.io/en/stable/user_install.html\n",
      "  from .autonotebook import tqdm as notebook_tqdm\n",
      "Importing plotly failed. Interactive plots will not work.\n"
     ]
    }
   ],
   "source": [
    "import pandas as pd\n",
    "from prophet import Prophet"
   ]
  },
  {
   "cell_type": "code",
   "execution_count": 5,
   "metadata": {},
   "outputs": [],
   "source": [
    "la_lluna = pd.read_csv(\"la_lluna.csv\")\n",
    "la_lluna.rename(columns={'holidays': 'festiu'}, inplace=True)"
   ]
  },
  {
   "cell_type": "code",
   "execution_count": 13,
   "metadata": {},
   "outputs": [
    {
     "name": "stderr",
     "output_type": "stream",
     "text": [
      "19:01:08 - cmdstanpy - INFO - Chain [1] start processing\n",
      "19:01:08 - cmdstanpy - INFO - Chain [1] done processing\n"
     ]
    },
    {
     "ename": "ValueError",
     "evalue": "Found NaN in column 'feelslike'",
     "output_type": "error",
     "traceback": [
      "\u001b[1;31m---------------------------------------------------------------------------\u001b[0m",
      "\u001b[1;31mValueError\u001b[0m                                Traceback (most recent call last)",
      "Cell \u001b[1;32mIn[13], line 40\u001b[0m\n\u001b[0;32m     37\u001b[0m future\u001b[39m.\u001b[39mloc[future[\u001b[39m'\u001b[39m\u001b[39mds\u001b[39m\u001b[39m'\u001b[39m]\u001b[39m.\u001b[39misin(la_lluna_last365[\u001b[39m'\u001b[39m\u001b[39mdate\u001b[39m\u001b[39m'\u001b[39m]), \u001b[39m'\u001b[39m\u001b[39mfestiu\u001b[39m\u001b[39m'\u001b[39m] \u001b[39m=\u001b[39m la_lluna_last365[\u001b[39m'\u001b[39m\u001b[39mfestiu\u001b[39m\u001b[39m'\u001b[39m]\u001b[39m.\u001b[39mvalues\n\u001b[0;32m     39\u001b[0m \u001b[39m# Make predictions on the future dates\u001b[39;00m\n\u001b[1;32m---> 40\u001b[0m forecast \u001b[39m=\u001b[39m m\u001b[39m.\u001b[39;49mpredict(future)\n\u001b[0;32m     42\u001b[0m \u001b[39m# Plot the forecast\u001b[39;00m\n\u001b[0;32m     43\u001b[0m fig \u001b[39m=\u001b[39m m\u001b[39m.\u001b[39mplot(forecast)\n",
      "File \u001b[1;32mc:\\Users\\germa\\miniconda3\\lib\\site-packages\\prophet\\forecaster.py:1219\u001b[0m, in \u001b[0;36mProphet.predict\u001b[1;34m(self, df, vectorized)\u001b[0m\n\u001b[0;32m   1217\u001b[0m     \u001b[39mif\u001b[39;00m df\u001b[39m.\u001b[39mshape[\u001b[39m0\u001b[39m] \u001b[39m==\u001b[39m \u001b[39m0\u001b[39m:\n\u001b[0;32m   1218\u001b[0m         \u001b[39mraise\u001b[39;00m \u001b[39mValueError\u001b[39;00m(\u001b[39m'\u001b[39m\u001b[39mDataframe has no rows.\u001b[39m\u001b[39m'\u001b[39m)\n\u001b[1;32m-> 1219\u001b[0m     df \u001b[39m=\u001b[39m \u001b[39mself\u001b[39;49m\u001b[39m.\u001b[39;49msetup_dataframe(df\u001b[39m.\u001b[39;49mcopy())\n\u001b[0;32m   1221\u001b[0m df[\u001b[39m'\u001b[39m\u001b[39mtrend\u001b[39m\u001b[39m'\u001b[39m] \u001b[39m=\u001b[39m \u001b[39mself\u001b[39m\u001b[39m.\u001b[39mpredict_trend(df)\n\u001b[0;32m   1222\u001b[0m seasonal_components \u001b[39m=\u001b[39m \u001b[39mself\u001b[39m\u001b[39m.\u001b[39mpredict_seasonal_components(df)\n",
      "File \u001b[1;32mc:\\Users\\germa\\miniconda3\\lib\\site-packages\\prophet\\forecaster.py:287\u001b[0m, in \u001b[0;36mProphet.setup_dataframe\u001b[1;34m(self, df, initialize_scales)\u001b[0m\n\u001b[0;32m    285\u001b[0m     df[name] \u001b[39m=\u001b[39m pd\u001b[39m.\u001b[39mto_numeric(df[name])\n\u001b[0;32m    286\u001b[0m     \u001b[39mif\u001b[39;00m df[name]\u001b[39m.\u001b[39misnull()\u001b[39m.\u001b[39many():\n\u001b[1;32m--> 287\u001b[0m         \u001b[39mraise\u001b[39;00m \u001b[39mValueError\u001b[39;00m(\n\u001b[0;32m    288\u001b[0m             \u001b[39m'\u001b[39m\u001b[39mFound NaN in column \u001b[39m\u001b[39m{name!r}\u001b[39;00m\u001b[39m'\u001b[39m\u001b[39m.\u001b[39mformat(name\u001b[39m=\u001b[39mname)\n\u001b[0;32m    289\u001b[0m         )\n\u001b[0;32m    290\u001b[0m \u001b[39mfor\u001b[39;00m props \u001b[39min\u001b[39;00m \u001b[39mself\u001b[39m\u001b[39m.\u001b[39mseasonalities\u001b[39m.\u001b[39mvalues():\n\u001b[0;32m    291\u001b[0m     condition_name \u001b[39m=\u001b[39m props[\u001b[39m'\u001b[39m\u001b[39mcondition_name\u001b[39m\u001b[39m'\u001b[39m]\n",
      "\u001b[1;31mValueError\u001b[0m: Found NaN in column 'feelslike'"
     ]
    }
   ],
   "source": [
    "# Select relevant columns for Prophet modeling\n",
    "df_prophet = la_lluna[['date', 'daily_revenue', 'feelslike', 'precip', 'windgust', 'windspeed', 'cloudcover', 'moonphase', 'closed', 'festiu']]\n",
    "\n",
    "# Rename columns to match Prophet's required naming convention\n",
    "df_prophet = df_prophet.rename(columns={'date': 'ds', 'daily_revenue': 'y'})\n",
    "\n",
    "# Initialize Prophet model\n",
    "m = Prophet()\n",
    "\n",
    "# Add regressor columns to the model (optional)\n",
    "m.add_regressor('feelslike')\n",
    "m.add_regressor('precip')\n",
    "m.add_regressor('windgust')\n",
    "m.add_regressor('windspeed')\n",
    "m.add_regressor('cloudcover')\n",
    "m.add_regressor('moonphase')\n",
    "m.add_regressor('closed')\n",
    "m.add_regressor('festiu')\n",
    "\n",
    "# Fit the model on the data\n",
    "m.fit(df_prophet)\n",
    "\n",
    "# Select the last 365 rows of la_lluna\n",
    "la_lluna_last365 = la_lluna.tail(365)\n",
    "\n",
    "# Create a dataframe with the dates to make predictions for\n",
    "future = m.make_future_dataframe(periods=365)\n",
    "\n",
    "# Select the last 365 rows of the required regressor columns and assign them to the corresponding columns in future\n",
    "future.loc[future['ds'].isin(la_lluna_last365['date']), 'feelslike'] = la_lluna_last365['feelslike'].values\n",
    "future.loc[future['ds'].isin(la_lluna_last365['date']), 'precip'] = la_lluna_last365['precip'].values\n",
    "future.loc[future['ds'].isin(la_lluna_last365['date']), 'windgust'] = la_lluna_last365['windgust'].values\n",
    "future.loc[future['ds'].isin(la_lluna_last365['date']), 'windspeed'] = la_lluna_last365['windspeed'].values\n",
    "future.loc[future['ds'].isin(la_lluna_last365['date']), 'cloudcover'] = la_lluna_last365['cloudcover'].values\n",
    "future.loc[future['ds'].isin(la_lluna_last365['date']), 'moonphase'] = la_lluna_last365['moonphase'].values\n",
    "future.loc[future['ds'].isin(la_lluna_last365['date']), 'closed'] = la_lluna_last365['closed'].values\n",
    "future.loc[future['ds'].isin(la_lluna_last365['date']), 'festiu'] = la_lluna_last365['festiu'].values\n",
    "\n",
    "# Make predictions on the future dates\n",
    "forecast = m.predict(future)\n",
    "\n",
    "# Plot the forecast\n",
    "fig = m.plot(forecast)\n",
    "\n",
    "\n"
   ]
  },
  {
   "cell_type": "code",
   "execution_count": 7,
   "metadata": {},
   "outputs": [
    {
     "data": {
      "text/html": [
       "<div>\n",
       "<style scoped>\n",
       "    .dataframe tbody tr th:only-of-type {\n",
       "        vertical-align: middle;\n",
       "    }\n",
       "\n",
       "    .dataframe tbody tr th {\n",
       "        vertical-align: top;\n",
       "    }\n",
       "\n",
       "    .dataframe thead th {\n",
       "        text-align: right;\n",
       "    }\n",
       "</style>\n",
       "<table border=\"1\" class=\"dataframe\">\n",
       "  <thead>\n",
       "    <tr style=\"text-align: right;\">\n",
       "      <th></th>\n",
       "      <th>ds</th>\n",
       "      <th>y</th>\n",
       "    </tr>\n",
       "  </thead>\n",
       "  <tbody>\n",
       "    <tr>\n",
       "      <th>351</th>\n",
       "      <td>2021-03-16</td>\n",
       "      <td>330.23</td>\n",
       "    </tr>\n",
       "  </tbody>\n",
       "</table>\n",
       "</div>"
      ],
      "text/plain": [
       "             ds       y\n",
       "351  2021-03-16  330.23"
      ]
     },
     "execution_count": 7,
     "metadata": {},
     "output_type": "execute_result"
    }
   ],
   "source": [
    "df_prophet.sample()"
   ]
  },
  {
   "cell_type": "code",
   "execution_count": 22,
   "metadata": {},
   "outputs": [
    {
     "data": {
      "text/plain": [
       "(1436, 9)"
      ]
     },
     "execution_count": 22,
     "metadata": {},
     "output_type": "execute_result"
    }
   ],
   "source": [
    "future.shape"
   ]
  },
  {
   "cell_type": "code",
   "execution_count": 24,
   "metadata": {},
   "outputs": [
    {
     "data": {
      "text/plain": [
       "(1081, 16)"
      ]
     },
     "execution_count": 24,
     "metadata": {},
     "output_type": "execute_result"
    }
   ],
   "source": [
    "la_lluna.shape"
   ]
  },
  {
   "cell_type": "code",
   "execution_count": 25,
   "metadata": {},
   "outputs": [
    {
     "data": {
      "text/plain": [
       "day_of_month       int64\n",
       "daily_revenue    float64\n",
       "month              int64\n",
       "year               int64\n",
       "date              object\n",
       "weekday_str       object\n",
       "weekday            int64\n",
       "closed             int64\n",
       "festiu             int64\n",
       "feelslike        float64\n",
       "precip           float64\n",
       "windgust         float64\n",
       "windspeed        float64\n",
       "cloudcover       float64\n",
       "moonphase        float64\n",
       "date_numeric       int64\n",
       "dtype: object"
      ]
     },
     "execution_count": 25,
     "metadata": {},
     "output_type": "execute_result"
    }
   ],
   "source": [
    "la_lluna.dtypes"
   ]
  }
 ],
 "metadata": {
  "kernelspec": {
   "display_name": "base",
   "language": "python",
   "name": "python3"
  },
  "language_info": {
   "codemirror_mode": {
    "name": "ipython",
    "version": 3
   },
   "file_extension": ".py",
   "mimetype": "text/x-python",
   "name": "python",
   "nbconvert_exporter": "python",
   "pygments_lexer": "ipython3",
   "version": "3.10.9"
  },
  "orig_nbformat": 4
 },
 "nbformat": 4,
 "nbformat_minor": 2
}
