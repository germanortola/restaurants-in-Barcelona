{
 "cells": [
  {
   "cell_type": "code",
   "execution_count": 1,
   "metadata": {},
   "outputs": [],
   "source": [
    "import requests\n",
    "from bs4 import BeautifulSoup\n",
    "import pandas as pd\n"
   ]
  },
  {
   "cell_type": "code",
   "execution_count": null,
   "metadata": {},
   "outputs": [],
   "source": [
    "\n",
    "def get_restaurant_data(url, num_pages):\n",
    "    \"\"\"\n",
    "    Given a TripAdvisor or TheFork URL and a number of pages, scrapes restaurant data from each page and returns a pandas\n",
    "    dataframe containing the name, cuisine, rating, and number of reviews for each restaurant.\n",
    "    \"\"\"\n",
    "    restaurant_data = []\n",
    "    for i in range(num_pages):\n",
    "        page_url = url + \"-oa\" + str(i*30)\n",
    "        r = requests.get(page_url)\n",
    "        soup = BeautifulSoup(r.content, 'html.parser')\n",
    "        restaurants = soup.find_all('div', {'class': 'wQjYiB7z'})\n",
    "        for restaurant in restaurants:\n",
    "            name = restaurant.find('a', {'class': '_15_ydu6b'}).text\n",
    "            cuisine = restaurant.find('div', {'class': '_1p3joamp'}).text\n",
    "            rating = float(restaurant.find('span', {'class': '_3KcXyP0F'}).text.replace(',', '.'))\n",
    "            num_reviews = int(restaurant.find('a', {'class': '_10Iv7dOs'}).text.split()[0])\n",
    "            restaurant_data.append({'name': name, 'cuisine': cuisine, 'rating': rating, 'num_reviews': num_reviews})\n",
    "    return pd.DataFrame(restaurant_data)\n"
   ]
  },
  {
   "cell_type": "code",
   "execution_count": null,
   "metadata": {},
   "outputs": [],
   "source": [
    "\n",
    "# Example usage for TripAdvisor\n",
    "tripadvisor_url = 'https://www.tripadvisor.com/Restaurants-g187497-Barcelona_Catalonia.html'\n",
    "num_tripadvisor_pages = 3\n",
    "tripadvisor_data = get_restaurant_data(tripadvisor_url, num_tripadvisor_pages)\n",
    "\n",
    "# Example usage for TheFork\n",
    "thefork_url = 'https://www.thefork.com/city/barcelona/341567'\n",
    "num_thefork_pages = 3\n",
    "thefork_data = get_restaurant_data(thefork_url, num_thefork_pages)\n"
   ]
  }
 ],
 "metadata": {
  "kernelspec": {
   "display_name": "ironhack",
   "language": "python",
   "name": "python3"
  },
  "language_info": {
   "codemirror_mode": {
    "name": "ipython",
    "version": 3
   },
   "file_extension": ".py",
   "mimetype": "text/x-python",
   "name": "python",
   "nbconvert_exporter": "python",
   "pygments_lexer": "ipython3",
   "version": "3.10.4"
  },
  "orig_nbformat": 4,
  "vscode": {
   "interpreter": {
    "hash": "4fb3542bd4955df1568bd30556108f2a509a772a1c7029bb09d83fc983cd9288"
   }
  }
 },
 "nbformat": 4,
 "nbformat_minor": 2
}
