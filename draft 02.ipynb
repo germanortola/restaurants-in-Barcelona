{
 "cells": [
  {
   "cell_type": "code",
   "execution_count": 2,
   "metadata": {},
   "outputs": [],
   "source": [
    "import pandas as pd"
   ]
  },
  {
   "cell_type": "code",
   "execution_count": 3,
   "metadata": {},
   "outputs": [],
   "source": [
    "\n",
    "restaurants_general = pd.read_csv('restaurants_general.csv', low_memory=False)\n",
    "restaurants_tapas = pd.read_csv('restaurants_tapas.csv', low_memory=False)\n",
    "restaurants_brunch = pd.read_csv('restaurants_brunch.csv', low_memory=False)\n"
   ]
  },
  {
   "cell_type": "code",
   "execution_count": 4,
   "metadata": {},
   "outputs": [],
   "source": [
    "common_cols = ['cid','title', 'totalScore','address','categories/0',\n",
    " 'categories/1',\n",
    " 'categories/2',\n",
    " 'categories/3',\n",
    " 'categories/4',\n",
    " 'categories/5',\n",
    " 'categories/6',\n",
    " 'categories/7',\n",
    " 'categories/8',\n",
    " 'categories/9',\n",
    " 'categories/10',\n",
    " 'categories/11',\n",
    " 'categories/12',\n",
    " 'categories/13', \n",
    " 'categoryName',\n",
    " 'text',\n",
    " 'reviewsCount',\n",
    " 'reviewsDistribution/fiveStar',\n",
    " 'reviewsDistribution/fourStar',\n",
    " 'reviewsDistribution/oneStar',\n",
    " 'reviewsDistribution/threeStar',\n",
    " 'reviewsDistribution/twoStar',\n",
    " 'reviewsTags/0/count',\n",
    " 'reviewsTags/0/title',\n",
    " 'reviewsTags/1/count',\n",
    " 'reviewsTags/1/title',\n",
    " 'reviewsTags/2/count',\n",
    " 'reviewsTags/2/title',\n",
    " 'reviewsTags/3/count',\n",
    " 'reviewsTags/3/title',\n",
    " 'reviewsTags/4/count',\n",
    " 'reviewsTags/4/title',\n",
    " 'reviewsTags/5/count',\n",
    " 'reviewsTags/5/title',\n",
    " 'reviewsTags/6/count',\n",
    " 'reviewsTags/6/title',\n",
    " 'reviewsTags/7/count',\n",
    " 'reviewsTags/7/title',\n",
    " 'reviewsTags/8/count',\n",
    " 'reviewsTags/8/title',\n",
    " 'reviewsTags/9/count',\n",
    " 'reviewsTags/9/title',\n",
    " 'city',\n",
    " 'description','location/lat',\n",
    " 'location/lng',\n",
    " 'menu','permanentlyClosed','postalCode',\n",
    " 'price','rank','phone', 'url',\n",
    " 'website']\n",
    "\n",
    "restaurants_general = restaurants_general[common_cols]\n",
    "restaurants_tapas = restaurants_tapas[common_cols]\n",
    "restaurants_brunch = restaurants_brunch[common_cols]\n"
   ]
  },
  {
   "cell_type": "code",
   "execution_count": 5,
   "metadata": {},
   "outputs": [
    {
     "name": "stdout",
     "output_type": "stream",
     "text": [
      "                       cid                            title  totalScore  \\\n",
      "9600     13718699518688054  Restaurante asiatico sushi xing         2.9   \n",
      "9609     13718699518688054  Restaurante asiatico sushi xing         2.9   \n",
      "9608     13718699518688054  Restaurante asiatico sushi xing         2.9   \n",
      "9607     13718699518688054  Restaurante asiatico sushi xing         2.9   \n",
      "9606     13718699518688054  Restaurante asiatico sushi xing         2.9   \n",
      "...                    ...                              ...         ...   \n",
      "3852  18406035280930144334            Restaurante Fernández         4.3   \n",
      "3853  18406035280930144334            Restaurante Fernández         4.3   \n",
      "3854  18406035280930144334            Restaurante Fernández         4.3   \n",
      "3844  18406035280930144334            Restaurante Fernández         4.3   \n",
      "8974  18406035280930144334            Restaurante Fernández         4.3   \n",
      "\n",
      "                                                address        categories/0  \\\n",
      "9600  Carrer de Dante Alighieri, 84, 08032 Barcelona...  Chinese restaurant   \n",
      "9609  Carrer de Dante Alighieri, 84, 08032 Barcelona...  Chinese restaurant   \n",
      "9608  Carrer de Dante Alighieri, 84, 08032 Barcelona...  Chinese restaurant   \n",
      "9607  Carrer de Dante Alighieri, 84, 08032 Barcelona...  Chinese restaurant   \n",
      "9606  Carrer de Dante Alighieri, 84, 08032 Barcelona...  Chinese restaurant   \n",
      "...                                                 ...                 ...   \n",
      "3852       Carrer de Lorena, 97, 08042 Barcelona, Spain          Restaurant   \n",
      "3853       Carrer de Lorena, 97, 08042 Barcelona, Spain          Restaurant   \n",
      "3854       Carrer de Lorena, 97, 08042 Barcelona, Spain          Restaurant   \n",
      "3844       Carrer de Lorena, 97, 08042 Barcelona, Spain          Restaurant   \n",
      "8974       Carrer de Lorena, 97, 08042 Barcelona, Spain          Restaurant   \n",
      "\n",
      "             categories/1      categories/2 categories/3 categories/4  \\\n",
      "9600     Asian restaurant  Sushi restaurant          NaN          NaN   \n",
      "9609     Asian restaurant  Sushi restaurant          NaN          NaN   \n",
      "9608     Asian restaurant  Sushi restaurant          NaN          NaN   \n",
      "9607     Asian restaurant  Sushi restaurant          NaN          NaN   \n",
      "9606     Asian restaurant  Sushi restaurant          NaN          NaN   \n",
      "...                   ...               ...          ...          ...   \n",
      "3852  Galician restaurant               NaN          NaN          NaN   \n",
      "3853  Galician restaurant               NaN          NaN          NaN   \n",
      "3854  Galician restaurant               NaN          NaN          NaN   \n",
      "3844  Galician restaurant               NaN          NaN          NaN   \n",
      "8974  Galician restaurant               NaN          NaN          NaN   \n",
      "\n",
      "     categories/5  ... location/lat location/lng menu permanentlyClosed  \\\n",
      "9600          NaN  ...    41.427602     2.156966  NaN             False   \n",
      "9609          NaN  ...    41.427602     2.156966  NaN             False   \n",
      "9608          NaN  ...    41.427602     2.156966  NaN             False   \n",
      "9607          NaN  ...    41.427602     2.156966  NaN             False   \n",
      "9606          NaN  ...    41.427602     2.156966  NaN             False   \n",
      "...           ...  ...          ...          ...  ...               ...   \n",
      "3852          NaN  ...    41.438174     2.173266  NaN             False   \n",
      "3853          NaN  ...    41.438174     2.173266  NaN             False   \n",
      "3854          NaN  ...    41.438174     2.173266  NaN             False   \n",
      "3844          NaN  ...    41.438174     2.173266  NaN             False   \n",
      "8974          NaN  ...    41.438174     2.173266  NaN             False   \n",
      "\n",
      "     postalCode price rank             phone  \\\n",
      "9600     8032.0     $  118  +34 934 20 91 10   \n",
      "9609     8032.0     $  118  +34 934 20 91 10   \n",
      "9608     8032.0     $  118  +34 934 20 91 10   \n",
      "9607     8032.0     $  118  +34 934 20 91 10   \n",
      "9606     8032.0     $  118  +34 934 20 91 10   \n",
      "...         ...   ...  ...               ...   \n",
      "3852     8042.0     $   12  +34 933 54 62 22   \n",
      "3853     8042.0     $   12  +34 933 54 62 22   \n",
      "3854     8042.0     $   12  +34 933 54 62 22   \n",
      "3844     8042.0     $   12  +34 933 54 62 22   \n",
      "8974     8042.0     $   16  +34 933 54 62 22   \n",
      "\n",
      "                                                    url  \\\n",
      "9600  https://www.google.com/maps/place/Restaurante+...   \n",
      "9609  https://www.google.com/maps/place/Restaurante+...   \n",
      "9608  https://www.google.com/maps/place/Restaurante+...   \n",
      "9607  https://www.google.com/maps/place/Restaurante+...   \n",
      "9606  https://www.google.com/maps/place/Restaurante+...   \n",
      "...                                                 ...   \n",
      "3852  https://www.google.com/maps/place/Restaurante+...   \n",
      "3853  https://www.google.com/maps/place/Restaurante+...   \n",
      "3854  https://www.google.com/maps/place/Restaurante+...   \n",
      "3844  https://www.google.com/maps/place/Restaurante+...   \n",
      "8974  https://www.google.com/maps/place/Restaurante+...   \n",
      "\n",
      "                                           website  \n",
      "9600  http://www.restauranteasiaticosushixing.com/  \n",
      "9609  http://www.restauranteasiaticosushixing.com/  \n",
      "9608  http://www.restauranteasiaticosushixing.com/  \n",
      "9607  http://www.restauranteasiaticosushixing.com/  \n",
      "9606  http://www.restauranteasiaticosushixing.com/  \n",
      "...                                            ...  \n",
      "3852                                           NaN  \n",
      "3853                                           NaN  \n",
      "3854                                           NaN  \n",
      "3844                                           NaN  \n",
      "8974                                           NaN  \n",
      "\n",
      "[41772 rows x 58 columns]\n"
     ]
    }
   ],
   "source": [
    "restaurant_full = pd.concat([restaurants_general, restaurants_tapas, restaurants_brunch])\n",
    "# Check for duplicates in cid column\n",
    "duplicate_cids = restaurant_full.duplicated(subset=['cid'], keep=False)\n",
    "print(restaurant_full[duplicate_cids].sort_values('cid'))\n"
   ]
  },
  {
   "cell_type": "code",
   "execution_count": 6,
   "metadata": {},
   "outputs": [],
   "source": [
    "# Remove duplicates based on cid column\n",
    "restaurant_places = restaurant_full.drop_duplicates(subset=['cid'], keep='first')\n"
   ]
  },
  {
   "cell_type": "code",
   "execution_count": 7,
   "metadata": {},
   "outputs": [
    {
     "data": {
      "text/plain": [
       "(1169, 58)"
      ]
     },
     "execution_count": 7,
     "metadata": {},
     "output_type": "execute_result"
    }
   ],
   "source": [
    "restaurant_places.shape"
   ]
  },
  {
   "cell_type": "code",
   "execution_count": 8,
   "metadata": {},
   "outputs": [
    {
     "name": "stderr",
     "output_type": "stream",
     "text": [
      "C:\\Users\\germa\\AppData\\Local\\Temp\\ipykernel_1600\\2862272657.py:2: SettingWithCopyWarning: \n",
      "A value is trying to be set on a copy of a slice from a DataFrame\n",
      "\n",
      "See the caveats in the documentation: https://pandas.pydata.org/pandas-docs/stable/user_guide/indexing.html#returning-a-view-versus-a-copy\n",
      "  reviews.dropna(subset=['text'], inplace=True)\n"
     ]
    },
    {
     "data": {
      "text/plain": [
       "(18115, 58)"
      ]
     },
     "execution_count": 8,
     "metadata": {},
     "output_type": "execute_result"
    }
   ],
   "source": [
    "reviews = restaurant_full.drop_duplicates(subset=['text'], keep='first')\n",
    "reviews.dropna(subset=['text'], inplace=True)\n",
    "reviews.shape\n"
   ]
  },
  {
   "cell_type": "code",
   "execution_count": 12,
   "metadata": {},
   "outputs": [
    {
     "data": {
      "text/plain": [
       "cid                                int64\n",
       "title                             object\n",
       "totalScore                       float64\n",
       "address                           object\n",
       "categories/0                      object\n",
       "categories/1                      object\n",
       "categories/2                      object\n",
       "categories/3                      object\n",
       "categories/4                      object\n",
       "categories/5                      object\n",
       "categories/6                      object\n",
       "categories/7                      object\n",
       "categories/8                      object\n",
       "categories/9                      object\n",
       "categories/10                     object\n",
       "categories/11                     object\n",
       "categories/12                     object\n",
       "categories/13                     object\n",
       "categoryName                      object\n",
       "text                              object\n",
       "reviewsCount                       int64\n",
       "reviewsDistribution/fiveStar       int64\n",
       "reviewsDistribution/fourStar       int64\n",
       "reviewsDistribution/oneStar        int64\n",
       "reviewsDistribution/threeStar      int64\n",
       "reviewsDistribution/twoStar        int64\n",
       "reviewsTags/0/count              float64\n",
       "reviewsTags/0/title               object\n",
       "reviewsTags/1/count              float64\n",
       "reviewsTags/1/title               object\n",
       "reviewsTags/2/count              float64\n",
       "reviewsTags/2/title               object\n",
       "reviewsTags/3/count              float64\n",
       "reviewsTags/3/title               object\n",
       "reviewsTags/4/count              float64\n",
       "reviewsTags/4/title               object\n",
       "reviewsTags/5/count              float64\n",
       "reviewsTags/5/title               object\n",
       "reviewsTags/6/count              float64\n",
       "reviewsTags/6/title               object\n",
       "reviewsTags/7/count              float64\n",
       "reviewsTags/7/title               object\n",
       "reviewsTags/8/count              float64\n",
       "reviewsTags/8/title               object\n",
       "reviewsTags/9/count              float64\n",
       "reviewsTags/9/title               object\n",
       "city                              object\n",
       "description                       object\n",
       "location/lat                     float64\n",
       "location/lng                     float64\n",
       "menu                             float64\n",
       "permanentlyClosed                   bool\n",
       "postalCode                       float64\n",
       "price                             object\n",
       "rank                               int64\n",
       "phone                             object\n",
       "url                               object\n",
       "website                           object\n",
       "dtype: object"
      ]
     },
     "execution_count": 12,
     "metadata": {},
     "output_type": "execute_result"
    }
   ],
   "source": [
    "restaurant_places.dtypes\n"
   ]
  },
  {
   "cell_type": "code",
   "execution_count": 11,
   "metadata": {},
   "outputs": [
    {
     "name": "stderr",
     "output_type": "stream",
     "text": [
      "C:\\Users\\germa\\AppData\\Local\\Temp\\ipykernel_1600\\722288410.py:1: SettingWithCopyWarning: \n",
      "A value is trying to be set on a copy of a slice from a DataFrame.\n",
      "Try using .loc[row_indexer,col_indexer] = value instead\n",
      "\n",
      "See the caveats in the documentation: https://pandas.pydata.org/pandas-docs/stable/user_guide/indexing.html#returning-a-view-versus-a-copy\n",
      "  restaurant_places['cid'] = restaurant_places['cid'].astype('int64')\n",
      "C:\\Users\\germa\\AppData\\Local\\Temp\\ipykernel_1600\\722288410.py:6: SettingWithCopyWarning: \n",
      "A value is trying to be set on a copy of a slice from a DataFrame.\n",
      "Try using .loc[row_indexer,col_indexer] = value instead\n",
      "\n",
      "See the caveats in the documentation: https://pandas.pydata.org/pandas-docs/stable/user_guide/indexing.html#returning-a-view-versus-a-copy\n",
      "  reviews['cid'] = reviews['cid'].astype('int64')\n"
     ]
    }
   ],
   "source": [
    "restaurant_places['cid'] = restaurant_places['cid'].astype('int64')\n",
    "restaurant_full['cid'] = restaurant_full['cid'].astype('int64')\n",
    "restaurants_general['cid'] = restaurants_general['cid'].astype('int64')\n",
    "restaurants_brunch['cid'] = restaurants_brunch['cid'].astype('int64')\n",
    "restaurants_tapas['cid'] = restaurants_tapas['cid'].astype('int64')\n",
    "reviews['cid'] = reviews['cid'].astype('int64')"
   ]
  },
  {
   "cell_type": "code",
   "execution_count": 15,
   "metadata": {},
   "outputs": [],
   "source": [
    "restaurant_places.to_csv(\"restaurant_places.csv\", index=False)"
   ]
  },
  {
   "cell_type": "code",
   "execution_count": 16,
   "metadata": {},
   "outputs": [],
   "source": [
    "restaurant_full.to_csv(\"restaurant_full.csv\", index=False)"
   ]
  },
  {
   "cell_type": "code",
   "execution_count": 17,
   "metadata": {},
   "outputs": [],
   "source": [
    "reviews.to_csv(\"reviews.csv\", index=False)"
   ]
  },
  {
   "cell_type": "code",
   "execution_count": 20,
   "metadata": {},
   "outputs": [
    {
     "data": {
      "text/plain": [
       "cid                                 0\n",
       "title                               0\n",
       "totalScore                         18\n",
       "address                             1\n",
       "categories/0                        1\n",
       "categories/1                      539\n",
       "categories/2                      819\n",
       "categories/3                      976\n",
       "categories/4                     1059\n",
       "categories/5                     1101\n",
       "categories/6                     1133\n",
       "categories/7                     1145\n",
       "categories/8                     1151\n",
       "categories/9                     1160\n",
       "categories/10                    1168\n",
       "categories/11                    1168\n",
       "categories/12                    1168\n",
       "categories/13                    1168\n",
       "categoryName                        1\n",
       "text                              462\n",
       "reviewsCount                        0\n",
       "reviewsDistribution/fiveStar        0\n",
       "reviewsDistribution/fourStar        0\n",
       "reviewsDistribution/oneStar         0\n",
       "reviewsDistribution/threeStar       0\n",
       "reviewsDistribution/twoStar         0\n",
       "reviewsTags/0/count               181\n",
       "reviewsTags/0/title               181\n",
       "reviewsTags/1/count               269\n",
       "reviewsTags/1/title               269\n",
       "reviewsTags/2/count               340\n",
       "reviewsTags/2/title               340\n",
       "reviewsTags/3/count               387\n",
       "reviewsTags/3/title               387\n",
       "reviewsTags/4/count               440\n",
       "reviewsTags/4/title               440\n",
       "reviewsTags/5/count               485\n",
       "reviewsTags/5/title               485\n",
       "reviewsTags/6/count               522\n",
       "reviewsTags/6/title               522\n",
       "reviewsTags/7/count               561\n",
       "reviewsTags/7/title               561\n",
       "reviewsTags/8/count               597\n",
       "reviewsTags/8/title               597\n",
       "reviewsTags/9/count               660\n",
       "reviewsTags/9/title               660\n",
       "city                                1\n",
       "description                       982\n",
       "location/lat                        1\n",
       "location/lng                        1\n",
       "menu                             1169\n",
       "permanentlyClosed                   0\n",
       "postalCode                          6\n",
       "price                             507\n",
       "rank                                0\n",
       "phone                             213\n",
       "url                                 0\n",
       "website                           620\n",
       "dtype: int64"
      ]
     },
     "execution_count": 20,
     "metadata": {},
     "output_type": "execute_result"
    }
   ],
   "source": [
    "restaurant_places.isna().sum()"
   ]
  },
  {
   "cell_type": "code",
   "execution_count": 21,
   "metadata": {},
   "outputs": [
    {
     "data": {
      "text/plain": [
       "(1169, 58)"
      ]
     },
     "execution_count": 21,
     "metadata": {},
     "output_type": "execute_result"
    }
   ],
   "source": [
    "restaurant_places.shape"
   ]
  },
  {
   "cell_type": "code",
   "execution_count": null,
   "metadata": {},
   "outputs": [],
   "source": []
  },
  {
   "cell_type": "code",
   "execution_count": null,
   "metadata": {},
   "outputs": [],
   "source": []
  },
  {
   "cell_type": "code",
   "execution_count": null,
   "metadata": {},
   "outputs": [],
   "source": []
  },
  {
   "cell_type": "code",
   "execution_count": null,
   "metadata": {},
   "outputs": [],
   "source": []
  }
 ],
 "metadata": {
  "kernelspec": {
   "display_name": "ironhack",
   "language": "python",
   "name": "python3"
  },
  "language_info": {
   "codemirror_mode": {
    "name": "ipython",
    "version": 3
   },
   "file_extension": ".py",
   "mimetype": "text/x-python",
   "name": "python",
   "nbconvert_exporter": "python",
   "pygments_lexer": "ipython3",
   "version": "3.10.9"
  },
  "orig_nbformat": 4
 },
 "nbformat": 4,
 "nbformat_minor": 2
}
