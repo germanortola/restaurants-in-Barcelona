{
 "cells": [
  {
   "cell_type": "code",
   "execution_count": 26,
   "metadata": {},
   "outputs": [],
   "source": [
    "import pandas as pd\n",
    "import numpy as np\n",
    "import os\n",
    "import requests\n",
    "from datetime import datetime, timedelta\n",
    "from datetime import date\n",
    "import holidays\n",
    "import holidays_es\n",
    "from holidays_es.holidays import get_provinces, Province\n",
    "from holidays import Spain\n",
    "import seaborn as sns\n",
    "import matplotlib.pyplot as plt\n"
   ]
  },
  {
   "cell_type": "code",
   "execution_count": null,
   "metadata": {},
   "outputs": [],
   "source": []
  },
  {
   "cell_type": "code",
   "execution_count": 21,
   "metadata": {},
   "outputs": [
    {
     "name": "stdout",
     "output_type": "stream",
     "text": [
      "     day_of_month daily_revenue  month  year\n",
      "0               0             0      8  2020\n",
      "1               0             0      8  2020\n",
      "2               0             0      8  2020\n",
      "3               1             0      8  2020\n",
      "4               2        322.37      8  2020\n",
      "...           ...           ...    ...   ...\n",
      "1300            0             0      3  2023\n",
      "1301            0             0      3  2023\n",
      "1302            0             0      3  2023\n",
      "1303            0             0      3  2023\n",
      "1304            0           NaN      3  2023\n",
      "\n",
      "[1305 rows x 4 columns]\n"
     ]
    }
   ],
   "source": [
    "\n",
    "# Set the path of the parent directory\n",
    "parent_dir = 'C:/Users/germa/github/rest_in_bcn_extras/control'\n",
    "\n",
    "# Initialize an empty DataFrame\n",
    "la_lluna_01 = pd.DataFrame()\n",
    "\n",
    "# Loop over the year folders\n",
    "for year_folder in os.listdir(parent_dir):\n",
    "    year_path = os.path.join(parent_dir, year_folder)\n",
    "    \n",
    "    # Loop over the month folders\n",
    "    for month_folder in os.listdir(year_path):\n",
    "        month_path = os.path.join(year_path, month_folder)\n",
    "        \n",
    "        # Get the month from the name of the folder\n",
    "        month = month_folder[:3]\n",
    "        \n",
    "        # Convert month to month number\n",
    "        if month.startswith('EN'):\n",
    "            month_num = 1\n",
    "        elif month.startswith('FE'):\n",
    "            month_num = 2\n",
    "        elif month.startswith('MAR'):\n",
    "            month_num = 3\n",
    "        elif month.startswith('AB'):\n",
    "            month_num = 4\n",
    "        elif month.startswith('MAY'):\n",
    "            month_num = 5\n",
    "        elif month.startswith('JUN'):\n",
    "            month_num = 6\n",
    "        elif month.startswith('JUL'):\n",
    "            month_num = 7\n",
    "        elif month.startswith('AG'):\n",
    "            month_num = 8\n",
    "        elif month.startswith('SE'):\n",
    "            month_num = 9\n",
    "        elif month.startswith('OC'):\n",
    "            month_num = 10\n",
    "        elif month.startswith('NO'):\n",
    "            month_num = 11\n",
    "        elif month.startswith('D'):\n",
    "            month_num = 12\n",
    "        else:\n",
    "            month_num = None\n",
    "        \n",
    "        # Loop over the Excel files\n",
    "        for file in os.listdir(month_path):\n",
    "            \n",
    "            # Check if the file starts with 'REC'\n",
    "            if file.startswith('REC'):\n",
    "                file_path = os.path.join(month_path, file)\n",
    "                \n",
    "                # Read the Excel file\n",
    "                df = pd.read_excel(file_path, header=None)\n",
    "                \n",
    "                # Get the day of the month and daily revenue\n",
    "                day_of_month = df.iloc[2:8, [1, 3, 5, 7, 9, 11, 13]].stack().reset_index(drop=True)\n",
    "                daily_revenue = df.iloc[2:8, [2, 4, 6, 8, 10, 12, 14]].stack().reset_index(drop=True)\n",
    "                \n",
    "                # Create a DataFrame with day_of_month and daily_revenue\n",
    "                df_new = pd.DataFrame({'day_of_month': day_of_month, 'daily_revenue': daily_revenue})\n",
    "                \n",
    "                # Add the month column as the month number\n",
    "                df_new['month'] = month_num\n",
    "                \n",
    "                # Add the year column\n",
    "                df_new['year'] = year_folder\n",
    "                \n",
    "                # Add the DataFrame to la_lluna_01\n",
    "                la_lluna_01 = pd.concat([la_lluna_01, df_new], ignore_index=True)\n",
    "print(la_lluna_01)\n"
   ]
  },
  {
   "cell_type": "code",
   "execution_count": 22,
   "metadata": {},
   "outputs": [
    {
     "data": {
      "text/html": [
       "<div>\n",
       "<style scoped>\n",
       "    .dataframe tbody tr th:only-of-type {\n",
       "        vertical-align: middle;\n",
       "    }\n",
       "\n",
       "    .dataframe tbody tr th {\n",
       "        vertical-align: top;\n",
       "    }\n",
       "\n",
       "    .dataframe thead th {\n",
       "        text-align: right;\n",
       "    }\n",
       "</style>\n",
       "<table border=\"1\" class=\"dataframe\">\n",
       "  <thead>\n",
       "    <tr style=\"text-align: right;\">\n",
       "      <th></th>\n",
       "      <th>day_of_month</th>\n",
       "      <th>daily_revenue</th>\n",
       "      <th>month</th>\n",
       "      <th>year</th>\n",
       "    </tr>\n",
       "  </thead>\n",
       "  <tbody>\n",
       "    <tr>\n",
       "      <th>1261</th>\n",
       "      <td>29</td>\n",
       "      <td>0</td>\n",
       "      <td>2</td>\n",
       "      <td>2023</td>\n",
       "    </tr>\n",
       "    <tr>\n",
       "      <th>633</th>\n",
       "      <td>25</td>\n",
       "      <td>606.41</td>\n",
       "      <td>5</td>\n",
       "      <td>2021</td>\n",
       "    </tr>\n",
       "    <tr>\n",
       "      <th>53</th>\n",
       "      <td>19</td>\n",
       "      <td>886.65</td>\n",
       "      <td>12</td>\n",
       "      <td>2020</td>\n",
       "    </tr>\n",
       "    <tr>\n",
       "      <th>1263</th>\n",
       "      <td>0</td>\n",
       "      <td>0</td>\n",
       "      <td>2</td>\n",
       "      <td>2023</td>\n",
       "    </tr>\n",
       "    <tr>\n",
       "      <th>1021</th>\n",
       "      <td>12</td>\n",
       "      <td>1524.75</td>\n",
       "      <td>3</td>\n",
       "      <td>2022</td>\n",
       "    </tr>\n",
       "    <tr>\n",
       "      <th>785</th>\n",
       "      <td>0</td>\n",
       "      <td>0</td>\n",
       "      <td>4</td>\n",
       "      <td>2022</td>\n",
       "    </tr>\n",
       "    <tr>\n",
       "      <th>419</th>\n",
       "      <td>30</td>\n",
       "      <td>0</td>\n",
       "      <td>12</td>\n",
       "      <td>2021</td>\n",
       "    </tr>\n",
       "    <tr>\n",
       "      <th>366</th>\n",
       "      <td>10</td>\n",
       "      <td>0</td>\n",
       "      <td>8</td>\n",
       "      <td>2021</td>\n",
       "    </tr>\n",
       "    <tr>\n",
       "      <th>569</th>\n",
       "      <td>2</td>\n",
       "      <td>179.73</td>\n",
       "      <td>3</td>\n",
       "      <td>2021</td>\n",
       "    </tr>\n",
       "    <tr>\n",
       "      <th>1288</th>\n",
       "      <td>19</td>\n",
       "      <td>0</td>\n",
       "      <td>3</td>\n",
       "      <td>2023</td>\n",
       "    </tr>\n",
       "  </tbody>\n",
       "</table>\n",
       "</div>"
      ],
      "text/plain": [
       "     day_of_month daily_revenue  month  year\n",
       "1261           29             0      2  2023\n",
       "633            25        606.41      5  2021\n",
       "53             19        886.65     12  2020\n",
       "1263            0             0      2  2023\n",
       "1021           12       1524.75      3  2022\n",
       "785             0             0      4  2022\n",
       "419            30             0     12  2021\n",
       "366            10             0      8  2021\n",
       "569             2        179.73      3  2021\n",
       "1288           19             0      3  2023"
      ]
     },
     "execution_count": 22,
     "metadata": {},
     "output_type": "execute_result"
    }
   ],
   "source": [
    "la_lluna_01.sample(10)"
   ]
  },
  {
   "cell_type": "code",
   "execution_count": 23,
   "metadata": {},
   "outputs": [],
   "source": [
    "la_lluna_01.to_csv(\"la_lluna_01.csv\", index=False)"
   ]
  },
  {
   "cell_type": "code",
   "execution_count": 24,
   "metadata": {},
   "outputs": [
    {
     "data": {
      "text/plain": [
       "year            0\n",
       "month           0\n",
       "day_of_month    0\n",
       "dtype: int64"
      ]
     },
     "execution_count": 24,
     "metadata": {},
     "output_type": "execute_result"
    }
   ],
   "source": [
    "la_lluna_01[['year', 'month', 'day_of_month']].applymap(lambda x: x == '').sum()\n"
   ]
  },
  {
   "cell_type": "code",
   "execution_count": 25,
   "metadata": {},
   "outputs": [],
   "source": [
    "la_lluna_01.dropna(subset=['year', 'month', 'day_of_month'], inplace=True)"
   ]
  },
  {
   "cell_type": "code",
   "execution_count": 28,
   "metadata": {},
   "outputs": [
    {
     "data": {
      "text/plain": [
       "(1292, 4)"
      ]
     },
     "execution_count": 28,
     "metadata": {},
     "output_type": "execute_result"
    }
   ],
   "source": [
    "la_lluna_01.shape"
   ]
  },
  {
   "cell_type": "code",
   "execution_count": 29,
   "metadata": {},
   "outputs": [
    {
     "data": {
      "text/html": [
       "<div>\n",
       "<style scoped>\n",
       "    .dataframe tbody tr th:only-of-type {\n",
       "        vertical-align: middle;\n",
       "    }\n",
       "\n",
       "    .dataframe tbody tr th {\n",
       "        vertical-align: top;\n",
       "    }\n",
       "\n",
       "    .dataframe thead th {\n",
       "        text-align: right;\n",
       "    }\n",
       "</style>\n",
       "<table border=\"1\" class=\"dataframe\">\n",
       "  <thead>\n",
       "    <tr style=\"text-align: right;\">\n",
       "      <th></th>\n",
       "      <th>day_of_month</th>\n",
       "      <th>daily_revenue</th>\n",
       "      <th>month</th>\n",
       "      <th>year</th>\n",
       "    </tr>\n",
       "  </thead>\n",
       "  <tbody>\n",
       "    <tr>\n",
       "      <th>0</th>\n",
       "      <td>0</td>\n",
       "      <td>0</td>\n",
       "      <td>8</td>\n",
       "      <td>2020</td>\n",
       "    </tr>\n",
       "    <tr>\n",
       "      <th>1</th>\n",
       "      <td>0</td>\n",
       "      <td>0</td>\n",
       "      <td>8</td>\n",
       "      <td>2020</td>\n",
       "    </tr>\n",
       "    <tr>\n",
       "      <th>2</th>\n",
       "      <td>0</td>\n",
       "      <td>0</td>\n",
       "      <td>8</td>\n",
       "      <td>2020</td>\n",
       "    </tr>\n",
       "    <tr>\n",
       "      <th>3</th>\n",
       "      <td>1</td>\n",
       "      <td>0</td>\n",
       "      <td>8</td>\n",
       "      <td>2020</td>\n",
       "    </tr>\n",
       "    <tr>\n",
       "      <th>4</th>\n",
       "      <td>2</td>\n",
       "      <td>322.37</td>\n",
       "      <td>8</td>\n",
       "      <td>2020</td>\n",
       "    </tr>\n",
       "  </tbody>\n",
       "</table>\n",
       "</div>"
      ],
      "text/plain": [
       "  day_of_month daily_revenue  month  year\n",
       "0            0             0      8  2020\n",
       "1            0             0      8  2020\n",
       "2            0             0      8  2020\n",
       "3            1             0      8  2020\n",
       "4            2        322.37      8  2020"
      ]
     },
     "execution_count": 29,
     "metadata": {},
     "output_type": "execute_result"
    }
   ],
   "source": [
    "la_lluna_01.head()"
   ]
  },
  {
   "cell_type": "code",
   "execution_count": 30,
   "metadata": {},
   "outputs": [
    {
     "data": {
      "text/plain": [
       "day_of_month     object\n",
       "daily_revenue    object\n",
       "month             int64\n",
       "year             object\n",
       "dtype: object"
      ]
     },
     "execution_count": 30,
     "metadata": {},
     "output_type": "execute_result"
    }
   ],
   "source": [
    "la_lluna_01.dtypes\n"
   ]
  },
  {
   "cell_type": "code",
   "execution_count": 2,
   "metadata": {},
   "outputs": [],
   "source": [
    "la_lluna=pd.read_csv(\"G:/My Drive/IRONHACK/FINAL PROJECT/la_lluna_01.csv\")"
   ]
  },
  {
   "cell_type": "code",
   "execution_count": 3,
   "metadata": {},
   "outputs": [
    {
     "data": {
      "text/plain": [
       "(1305, 4)"
      ]
     },
     "execution_count": 3,
     "metadata": {},
     "output_type": "execute_result"
    }
   ],
   "source": [
    "la_lluna.shape"
   ]
  },
  {
   "cell_type": "code",
   "execution_count": 35,
   "metadata": {},
   "outputs": [
    {
     "data": {
      "text/html": [
       "<div>\n",
       "<style scoped>\n",
       "    .dataframe tbody tr th:only-of-type {\n",
       "        vertical-align: middle;\n",
       "    }\n",
       "\n",
       "    .dataframe tbody tr th {\n",
       "        vertical-align: top;\n",
       "    }\n",
       "\n",
       "    .dataframe thead th {\n",
       "        text-align: right;\n",
       "    }\n",
       "</style>\n",
       "<table border=\"1\" class=\"dataframe\">\n",
       "  <thead>\n",
       "    <tr style=\"text-align: right;\">\n",
       "      <th></th>\n",
       "      <th>day_of_month</th>\n",
       "      <th>daily_revenue</th>\n",
       "      <th>month</th>\n",
       "      <th>year</th>\n",
       "    </tr>\n",
       "  </thead>\n",
       "  <tbody>\n",
       "    <tr>\n",
       "      <th>669</th>\n",
       "      <td>30</td>\n",
       "      <td>0.00</td>\n",
       "      <td>11</td>\n",
       "      <td>2021</td>\n",
       "    </tr>\n",
       "    <tr>\n",
       "      <th>1209</th>\n",
       "      <td>10</td>\n",
       "      <td>743.75</td>\n",
       "      <td>1</td>\n",
       "      <td>2023</td>\n",
       "    </tr>\n",
       "    <tr>\n",
       "      <th>393</th>\n",
       "      <td>4</td>\n",
       "      <td>1922.40</td>\n",
       "      <td>12</td>\n",
       "      <td>2021</td>\n",
       "    </tr>\n",
       "    <tr>\n",
       "      <th>395</th>\n",
       "      <td>6</td>\n",
       "      <td>2513.25</td>\n",
       "      <td>12</td>\n",
       "      <td>2021</td>\n",
       "    </tr>\n",
       "    <tr>\n",
       "      <th>611</th>\n",
       "      <td>3</td>\n",
       "      <td>0.00</td>\n",
       "      <td>5</td>\n",
       "      <td>2021</td>\n",
       "    </tr>\n",
       "  </tbody>\n",
       "</table>\n",
       "</div>"
      ],
      "text/plain": [
       "     day_of_month  daily_revenue  month  year\n",
       "669            30           0.00     11  2021\n",
       "1209           10         743.75      1  2023\n",
       "393             4        1922.40     12  2021\n",
       "395             6        2513.25     12  2021\n",
       "611             3           0.00      5  2021"
      ]
     },
     "execution_count": 35,
     "metadata": {},
     "output_type": "execute_result"
    }
   ],
   "source": [
    "la_lluna.sample(5)"
   ]
  },
  {
   "cell_type": "code",
   "execution_count": 36,
   "metadata": {},
   "outputs": [
    {
     "data": {
      "text/plain": [
       "day_of_month      object\n",
       "daily_revenue    float64\n",
       "month              int64\n",
       "year               int64\n",
       "dtype: object"
      ]
     },
     "execution_count": 36,
     "metadata": {},
     "output_type": "execute_result"
    }
   ],
   "source": [
    "la_lluna.dtypes"
   ]
  },
  {
   "cell_type": "code",
   "execution_count": 37,
   "metadata": {},
   "outputs": [],
   "source": [
    "\n",
    "# create a new column with the full date\n",
    "la_lluna['date'] = la_lluna['day_of_month'].map(str) + '-' + la_lluna['month'].map(str) + '-' + la_lluna['year'].map(str)\n",
    "\n",
    "\n",
    "\n"
   ]
  },
  {
   "cell_type": "code",
   "execution_count": 38,
   "metadata": {},
   "outputs": [],
   "source": [
    "\n",
    "\n",
    "def try_parse_date(date_string):\n",
    "    try:\n",
    "        return pd.to_datetime(date_string, format='%d-%m-%Y')\n",
    "    except ValueError:\n",
    "        return pd.NaT\n",
    "\n",
    "la_lluna['date'] = la_lluna.apply(lambda row: try_parse_date(f\"{row['day_of_month']}-{row['month']}-{row['year']}\"), axis=1)\n",
    "\n"
   ]
  },
  {
   "cell_type": "code",
   "execution_count": 39,
   "metadata": {},
   "outputs": [
    {
     "data": {
      "text/plain": [
       "(1305, 5)"
      ]
     },
     "execution_count": 39,
     "metadata": {},
     "output_type": "execute_result"
    }
   ],
   "source": [
    "la_lluna.shape"
   ]
  },
  {
   "cell_type": "code",
   "execution_count": 40,
   "metadata": {},
   "outputs": [],
   "source": [
    "# Create 'weekday_str' column with weekday names\n",
    "la_lluna['weekday_str'] = la_lluna['date'].dt.strftime('%A')\n",
    "\n",
    "# Create 'weekday' column with weekday numbers (Monday=1, Sunday=7)\n",
    "la_lluna['weekday'] = la_lluna['date'].dt.dayofweek + 1\n",
    "\n"
   ]
  },
  {
   "cell_type": "code",
   "execution_count": 43,
   "metadata": {},
   "outputs": [],
   "source": [
    "la_lluna['weekday'] = la_lluna['weekday'].fillna(0).astype('Int64')\n"
   ]
  },
  {
   "cell_type": "code",
   "execution_count": 45,
   "metadata": {},
   "outputs": [],
   "source": [
    "la_lluna.to_csv(\"la_lluna.csv\", index=False)"
   ]
  },
  {
   "cell_type": "code",
   "execution_count": 46,
   "metadata": {},
   "outputs": [],
   "source": [
    "\n",
    "la_lluna['closed'] = np.where(la_lluna['daily_revenue'] == 0, 1, 0)\n"
   ]
  },
  {
   "cell_type": "code",
   "execution_count": 47,
   "metadata": {},
   "outputs": [],
   "source": [
    "la_lluna['closed'] = la_lluna['closed'].fillna(0).astype('Int64')"
   ]
  },
  {
   "cell_type": "code",
   "execution_count": 48,
   "metadata": {},
   "outputs": [
    {
     "data": {
      "text/plain": [
       "day_of_month      13\n",
       "daily_revenue      7\n",
       "month              0\n",
       "year               0\n",
       "date             204\n",
       "weekday_str      204\n",
       "weekday            0\n",
       "closed             0\n",
       "dtype: int64"
      ]
     },
     "execution_count": 48,
     "metadata": {},
     "output_type": "execute_result"
    }
   ],
   "source": [
    "la_lluna.isna().sum()"
   ]
  },
  {
   "cell_type": "code",
   "execution_count": 49,
   "metadata": {},
   "outputs": [],
   "source": [
    "la_lluna['date'].dropna(inplace=True)"
   ]
  },
  {
   "cell_type": "code",
   "execution_count": null,
   "metadata": {},
   "outputs": [],
   "source": [
    "la_lluna = la_lluna['month']."
   ]
  },
  {
   "cell_type": "code",
   "execution_count": null,
   "metadata": {},
   "outputs": [],
   "source": [
    "la_lluna['day_of_month'] = la_lluna['day_of_month'].astype('Int64')\n",
    "la_lluna['year'] = la_lluna['year'].astype('Int64')\n",
    "la_lluna['month'] = la_lluna['month'].astype('Int64')\n"
   ]
  },
  {
   "cell_type": "code",
   "execution_count": null,
   "metadata": {},
   "outputs": [],
   "source": [
    "la_lluna = la_lluna.loc[~((la_lluna['month'] == 2) & (la_lluna['day_of_month'] > 28) & (la_lluna['year'] != 2020))]\n"
   ]
  },
  {
   "cell_type": "code",
   "execution_count": 4,
   "metadata": {},
   "outputs": [],
   "source": [
    "la_lluna = pd.read_csv(\"la_lluna (1).csv\")"
   ]
  },
  {
   "cell_type": "code",
   "execution_count": 5,
   "metadata": {},
   "outputs": [
    {
     "data": {
      "text/plain": [
       "day_of_month       int64\n",
       "daily_revenue    float64\n",
       "month              int64\n",
       "year               int64\n",
       "date              object\n",
       "weekday_str       object\n",
       "weekday            int64\n",
       "closed             int64\n",
       "dtype: object"
      ]
     },
     "execution_count": 5,
     "metadata": {},
     "output_type": "execute_result"
    }
   ],
   "source": [
    "la_lluna.dtypes"
   ]
  },
  {
   "cell_type": "code",
   "execution_count": 5,
   "metadata": {},
   "outputs": [
    {
     "name": "stdout",
     "output_type": "stream",
     "text": [
      "['alava', 'albacete', 'alicante', 'almeria', 'asturias', 'avila', 'badajoz', 'baleares', 'barcelona', 'bilbao', 'burgos', 'caceres', 'cadiz', 'cantabria', 'castellon', 'ceuta', 'ciudad-real', 'cordoba', 'la-coruna', 'cuenca', 'gijon', 'girona', 'granada', 'guadalajara', 'guipuzcoa', 'huelva', 'huesca', 'jaen', 'leon', 'lleida', 'logrono', 'lugo', 'madrid', 'malaga', 'melilla', 'murcia', 'navarra', 'ourense', 'oviedo', 'palencia', 'palma-de-mallorca', 'las-palmas', 'pamplona', 'pontevedra', 'la-rioja', 'salamanca', 'san-sebastian', 'santander', 'segovia', 'sevilla', 'soria', 'tarragona', 'tenerife', 'teruel', 'toledo', 'valencia', 'valladolid', 'vitoria', 'vizcaya', 'zamora', 'zaragoza']\n"
     ]
    }
   ],
   "source": [
    "\n",
    "provinces = get_provinces()\n",
    "print(provinces)\n",
    "\n"
   ]
  },
  {
   "cell_type": "code",
   "execution_count": 101,
   "metadata": {},
   "outputs": [
    {
     "data": {
      "text/plain": [
       "[datetime.date(2022, 9, 24), datetime.date(2022, 9, 26)]"
      ]
     },
     "execution_count": 101,
     "metadata": {},
     "output_type": "execute_result"
    }
   ],
   "source": [
    "Province(name=\"barcelona\", year=2022).local_holidays()"
   ]
  },
  {
   "cell_type": "code",
   "execution_count": 102,
   "metadata": {},
   "outputs": [
    {
     "data": {
      "text/plain": [
       "[datetime.date(2022, 4, 18),\n",
       " datetime.date(2022, 6, 6),\n",
       " datetime.date(2022, 6, 24),\n",
       " datetime.date(2022, 12, 26)]"
      ]
     },
     "execution_count": 102,
     "metadata": {},
     "output_type": "execute_result"
    }
   ],
   "source": [
    "Province(name=\"barcelona\", year=2022).regional_holidays()"
   ]
  },
  {
   "cell_type": "code",
   "execution_count": 9,
   "metadata": {},
   "outputs": [],
   "source": [
    "holidays_list = [(2023, 1, 6),\n",
    "                (2023, 4, 7),\n",
    "                (2023, 5, 1),\n",
    "                (2023, 8, 15),\n",
    "                (2023, 10, 12),\n",
    "                (2023, 11, 1),\n",
    "                (2023, 12, 6),\n",
    "                (2023, 12, 8),\n",
    "                (2023, 12, 25),\n",
    "                (2023, 5, 29), \n",
    "                (2023, 9, 25),\n",
    "                (2023, 4, 10),\n",
    "                (2023, 6, 24),\n",
    "                (2023, 9, 11),\n",
    "                (2023, 12, 26),\n",
    "                (2020, 1, 1),\n",
    "                (2020, 1, 6),\n",
    "                (2020, 4, 10),\n",
    "                (2020, 5, 1),\n",
    "                (2020, 8, 15),\n",
    "                (2020, 10, 12),\n",
    "                (2020, 12, 8),\n",
    "                (2020, 12, 25),\n",
    "                (2020, 6, 1),\n",
    "                (2020, 9, 24),\n",
    "                (2020, 4, 13),\n",
    "                (2020, 6, 24),\n",
    "                (2020, 9, 11),\n",
    "                (2020, 12, 26),\n",
    "                (2021, 1, 1),\n",
    "                (2021, 1, 6),\n",
    "                (2021, 4, 2),\n",
    "                (2021, 5, 1),\n",
    "                (2021, 10, 12),\n",
    "                (2021, 11, 1),\n",
    "                (2021, 12, 6),\n",
    "                (2021, 12, 8),\n",
    "                (2021, 12, 25),\n",
    "                (2021, 5, 24),\n",
    "                (2021, 9, 24),\n",
    "                (2021, 4, 5),\n",
    "                (2021, 6, 24),\n",
    "                (2021, 9, 11),\n",
    "                (2022, 1, 1),\n",
    "                (2022, 1, 6),\n",
    "                (2022, 4, 15),\n",
    "                (2022, 8, 15),\n",
    "                (2022, 10, 12),\n",
    "                (2022, 11, 1),\n",
    "                (2022, 12, 6),\n",
    "                (2022, 12, 8),\n",
    "                (2022, 9, 24),\n",
    "                (2022, 9, 26),\n",
    "                (2022, 4, 18),\n",
    "                (2022, 6, 6),\n",
    "                (2022, 6, 24),\n",
    "                (2022, 12, 26)]"
   ]
  },
  {
   "cell_type": "code",
   "execution_count": 10,
   "metadata": {},
   "outputs": [
    {
     "name": "stdout",
     "output_type": "stream",
     "text": [
      "Holiday 2023-04-07 00:00:00 not in dataframe\n",
      "Holiday 2023-05-01 00:00:00 not in dataframe\n",
      "Holiday 2023-08-15 00:00:00 not in dataframe\n",
      "Holiday 2023-10-12 00:00:00 not in dataframe\n",
      "Holiday 2023-11-01 00:00:00 not in dataframe\n",
      "Holiday 2023-12-06 00:00:00 not in dataframe\n",
      "Holiday 2023-12-08 00:00:00 not in dataframe\n",
      "Holiday 2023-12-25 00:00:00 not in dataframe\n",
      "Holiday 2023-05-29 00:00:00 not in dataframe\n",
      "Holiday 2023-09-25 00:00:00 not in dataframe\n",
      "Holiday 2023-04-10 00:00:00 not in dataframe\n",
      "Holiday 2023-06-24 00:00:00 not in dataframe\n",
      "Holiday 2023-09-11 00:00:00 not in dataframe\n",
      "Holiday 2023-12-26 00:00:00 not in dataframe\n",
      "Holiday 2020-04-10 00:00:00 not in dataframe\n",
      "Holiday 2020-05-01 00:00:00 not in dataframe\n",
      "Holiday 2020-06-01 00:00:00 not in dataframe\n",
      "Holiday 2020-04-13 00:00:00 not in dataframe\n",
      "Holiday 2020-06-24 00:00:00 not in dataframe\n"
     ]
    }
   ],
   "source": [
    "\n",
    "\n",
    "# Convert 'date' column to datetime format\n",
    "la_lluna['date'] = pd.to_datetime(la_lluna['date'])\n",
    "\n",
    "# Create new 'holidays' column and set all values to 0\n",
    "la_lluna['holidays'] = 0\n",
    "\n",
    "# Loop over every date in the holidays_list and set 'holidays' to 1 for matching dates in 'la_lluna'\n",
    "for holiday in holidays_list:\n",
    "    holiday_date = pd.to_datetime('-'.join(map(str, holiday)))\n",
    "    if holiday_date in la_lluna['date'].values:\n",
    "        la_lluna.loc[la_lluna['date'] == holiday_date, 'holidays'] = 1\n",
    "    else:\n",
    "        # if the holiday is not in the dataframe, you could choose to add a new row with NaN values\n",
    "        # or ignore the holiday\n",
    "        print(f\"Holiday {holiday_date} not in dataframe\")\n"
   ]
  },
  {
   "cell_type": "code",
   "execution_count": 6,
   "metadata": {},
   "outputs": [],
   "source": [
    "la_lluna = pd.read_csv(\"la_lluna.csv\")"
   ]
  },
  {
   "cell_type": "code",
   "execution_count": 7,
   "metadata": {},
   "outputs": [
    {
     "data": {
      "text/html": [
       "<div>\n",
       "<style scoped>\n",
       "    .dataframe tbody tr th:only-of-type {\n",
       "        vertical-align: middle;\n",
       "    }\n",
       "\n",
       "    .dataframe tbody tr th {\n",
       "        vertical-align: top;\n",
       "    }\n",
       "\n",
       "    .dataframe thead th {\n",
       "        text-align: right;\n",
       "    }\n",
       "</style>\n",
       "<table border=\"1\" class=\"dataframe\">\n",
       "  <thead>\n",
       "    <tr style=\"text-align: right;\">\n",
       "      <th></th>\n",
       "      <th>day_of_month</th>\n",
       "      <th>daily_revenue</th>\n",
       "      <th>month</th>\n",
       "      <th>year</th>\n",
       "      <th>date</th>\n",
       "      <th>weekday_str</th>\n",
       "      <th>weekday</th>\n",
       "      <th>closed</th>\n",
       "      <th>holidays</th>\n",
       "    </tr>\n",
       "  </thead>\n",
       "  <tbody>\n",
       "    <tr>\n",
       "      <th>185</th>\n",
       "      <td>4</td>\n",
       "      <td>0.00</td>\n",
       "      <td>10</td>\n",
       "      <td>2020</td>\n",
       "      <td>2020-10-04</td>\n",
       "      <td>Sunday</td>\n",
       "      <td>7</td>\n",
       "      <td>1</td>\n",
       "      <td>0</td>\n",
       "    </tr>\n",
       "    <tr>\n",
       "      <th>347</th>\n",
       "      <td>11</td>\n",
       "      <td>349.13</td>\n",
       "      <td>3</td>\n",
       "      <td>2021</td>\n",
       "      <td>2021-03-11</td>\n",
       "      <td>Thursday</td>\n",
       "      <td>4</td>\n",
       "      <td>0</td>\n",
       "      <td>0</td>\n",
       "    </tr>\n",
       "    <tr>\n",
       "      <th>1003</th>\n",
       "      <td>18</td>\n",
       "      <td>1289.40</td>\n",
       "      <td>12</td>\n",
       "      <td>2022</td>\n",
       "      <td>2022-12-18</td>\n",
       "      <td>Sunday</td>\n",
       "      <td>7</td>\n",
       "      <td>0</td>\n",
       "      <td>0</td>\n",
       "    </tr>\n",
       "    <tr>\n",
       "      <th>391</th>\n",
       "      <td>23</td>\n",
       "      <td>2868.10</td>\n",
       "      <td>4</td>\n",
       "      <td>2021</td>\n",
       "      <td>2021-04-23</td>\n",
       "      <td>Friday</td>\n",
       "      <td>5</td>\n",
       "      <td>0</td>\n",
       "      <td>0</td>\n",
       "    </tr>\n",
       "    <tr>\n",
       "      <th>172</th>\n",
       "      <td>21</td>\n",
       "      <td>377.94</td>\n",
       "      <td>9</td>\n",
       "      <td>2020</td>\n",
       "      <td>2020-09-21</td>\n",
       "      <td>Monday</td>\n",
       "      <td>1</td>\n",
       "      <td>0</td>\n",
       "      <td>0</td>\n",
       "    </tr>\n",
       "  </tbody>\n",
       "</table>\n",
       "</div>"
      ],
      "text/plain": [
       "      day_of_month  daily_revenue  month  year        date weekday_str  \\\n",
       "185              4           0.00     10  2020  2020-10-04      Sunday   \n",
       "347             11         349.13      3  2021  2021-03-11    Thursday   \n",
       "1003            18        1289.40     12  2022  2022-12-18      Sunday   \n",
       "391             23        2868.10      4  2021  2021-04-23      Friday   \n",
       "172             21         377.94      9  2020  2020-09-21      Monday   \n",
       "\n",
       "      weekday  closed  holidays  \n",
       "185         7       1         0  \n",
       "347         4       0         0  \n",
       "1003        7       0         0  \n",
       "391         5       0         0  \n",
       "172         1       0         0  "
      ]
     },
     "execution_count": 7,
     "metadata": {},
     "output_type": "execute_result"
    }
   ],
   "source": [
    "la_lluna.sample(5)"
   ]
  },
  {
   "cell_type": "code",
   "execution_count": 21,
   "metadata": {},
   "outputs": [],
   "source": [
    "la_lluna.to_csv(\"la_lluna.csv\", index=False)"
   ]
  },
  {
   "cell_type": "code",
   "execution_count": 8,
   "metadata": {},
   "outputs": [],
   "source": [
    "\n",
    "path = 'G:/My Drive/IRONHACK/FINAL PROJECT/'\n",
    "filename = 'weather_BCN_20200101_20230309.csv'\n",
    "columns_to_keep = ['datetime', 'feelslikemax', 'feelslikemin', 'feelslike', 'precip', 'windgust', 'windspeed', 'cloudcover', 'moonphase', 'description', 'conditions']\n",
    "\n",
    "weather = pd.read_csv(path + filename, usecols=columns_to_keep)\n",
    "weather = weather.sort_values(by='datetime', ascending=True)\n"
   ]
  },
  {
   "cell_type": "code",
   "execution_count": 9,
   "metadata": {},
   "outputs": [
    {
     "data": {
      "text/html": [
       "<div>\n",
       "<style scoped>\n",
       "    .dataframe tbody tr th:only-of-type {\n",
       "        vertical-align: middle;\n",
       "    }\n",
       "\n",
       "    .dataframe tbody tr th {\n",
       "        vertical-align: top;\n",
       "    }\n",
       "\n",
       "    .dataframe thead th {\n",
       "        text-align: right;\n",
       "    }\n",
       "</style>\n",
       "<table border=\"1\" class=\"dataframe\">\n",
       "  <thead>\n",
       "    <tr style=\"text-align: right;\">\n",
       "      <th></th>\n",
       "      <th>datetime</th>\n",
       "      <th>feelslikemax</th>\n",
       "      <th>feelslikemin</th>\n",
       "      <th>feelslike</th>\n",
       "      <th>precip</th>\n",
       "      <th>windgust</th>\n",
       "      <th>windspeed</th>\n",
       "      <th>cloudcover</th>\n",
       "      <th>moonphase</th>\n",
       "      <th>conditions</th>\n",
       "      <th>description</th>\n",
       "    </tr>\n",
       "  </thead>\n",
       "  <tbody>\n",
       "    <tr>\n",
       "      <th>1025</th>\n",
       "      <td>2022-10-22</td>\n",
       "      <td>26.2</td>\n",
       "      <td>17.3</td>\n",
       "      <td>21.2</td>\n",
       "      <td>0.000</td>\n",
       "      <td>38.9</td>\n",
       "      <td>12.1</td>\n",
       "      <td>44.7</td>\n",
       "      <td>0.90</td>\n",
       "      <td>Partially cloudy</td>\n",
       "      <td>Partly cloudy throughout the day.</td>\n",
       "    </tr>\n",
       "    <tr>\n",
       "      <th>298</th>\n",
       "      <td>2020-10-25</td>\n",
       "      <td>21.6</td>\n",
       "      <td>13.4</td>\n",
       "      <td>17.6</td>\n",
       "      <td>0.000</td>\n",
       "      <td>38.9</td>\n",
       "      <td>22.9</td>\n",
       "      <td>52.3</td>\n",
       "      <td>0.29</td>\n",
       "      <td>Partially cloudy</td>\n",
       "      <td>Partly cloudy throughout the day.</td>\n",
       "    </tr>\n",
       "    <tr>\n",
       "      <th>832</th>\n",
       "      <td>2022-04-12</td>\n",
       "      <td>15.3</td>\n",
       "      <td>13.2</td>\n",
       "      <td>14.2</td>\n",
       "      <td>0.000</td>\n",
       "      <td>60.5</td>\n",
       "      <td>35.7</td>\n",
       "      <td>90.4</td>\n",
       "      <td>0.36</td>\n",
       "      <td>Overcast</td>\n",
       "      <td>Cloudy skies throughout the day.</td>\n",
       "    </tr>\n",
       "    <tr>\n",
       "      <th>947</th>\n",
       "      <td>2022-08-05</td>\n",
       "      <td>37.5</td>\n",
       "      <td>22.2</td>\n",
       "      <td>28.2</td>\n",
       "      <td>13.889</td>\n",
       "      <td>38.9</td>\n",
       "      <td>26.4</td>\n",
       "      <td>22.4</td>\n",
       "      <td>0.25</td>\n",
       "      <td>Rain, Partially cloudy</td>\n",
       "      <td>Partly cloudy throughout the day with rain.</td>\n",
       "    </tr>\n",
       "    <tr>\n",
       "      <th>26</th>\n",
       "      <td>2020-01-27</td>\n",
       "      <td>14.5</td>\n",
       "      <td>7.1</td>\n",
       "      <td>11.0</td>\n",
       "      <td>0.000</td>\n",
       "      <td>39.3</td>\n",
       "      <td>22.9</td>\n",
       "      <td>47.6</td>\n",
       "      <td>0.08</td>\n",
       "      <td>Partially cloudy</td>\n",
       "      <td>Partly cloudy throughout the day.</td>\n",
       "    </tr>\n",
       "  </tbody>\n",
       "</table>\n",
       "</div>"
      ],
      "text/plain": [
       "        datetime  feelslikemax  feelslikemin  feelslike  precip  windgust  \\\n",
       "1025  2022-10-22          26.2          17.3       21.2   0.000      38.9   \n",
       "298   2020-10-25          21.6          13.4       17.6   0.000      38.9   \n",
       "832   2022-04-12          15.3          13.2       14.2   0.000      60.5   \n",
       "947   2022-08-05          37.5          22.2       28.2  13.889      38.9   \n",
       "26    2020-01-27          14.5           7.1       11.0   0.000      39.3   \n",
       "\n",
       "      windspeed  cloudcover  moonphase              conditions  \\\n",
       "1025       12.1        44.7       0.90        Partially cloudy   \n",
       "298        22.9        52.3       0.29        Partially cloudy   \n",
       "832        35.7        90.4       0.36                Overcast   \n",
       "947        26.4        22.4       0.25  Rain, Partially cloudy   \n",
       "26         22.9        47.6       0.08        Partially cloudy   \n",
       "\n",
       "                                      description  \n",
       "1025            Partly cloudy throughout the day.  \n",
       "298             Partly cloudy throughout the day.  \n",
       "832              Cloudy skies throughout the day.  \n",
       "947   Partly cloudy throughout the day with rain.  \n",
       "26              Partly cloudy throughout the day.  "
      ]
     },
     "execution_count": 9,
     "metadata": {},
     "output_type": "execute_result"
    }
   ],
   "source": [
    "weather.sample(5)"
   ]
  },
  {
   "cell_type": "code",
   "execution_count": 10,
   "metadata": {},
   "outputs": [],
   "source": [
    "weather.to_csv(\"weather.csv\", index=False)"
   ]
  },
  {
   "cell_type": "code",
   "execution_count": 11,
   "metadata": {},
   "outputs": [],
   "source": [
    "for index, row in weather.iterrows():\n",
    "    # find the corresponding row in la_lluna dataframe\n",
    "    la_lluna_row = la_lluna[la_lluna['date'] == row['datetime']]\n",
    "    # if the corresponding row is not found, skip this row\n",
    "    if len(la_lluna_row) == 0:\n",
    "        continue\n",
    "    # update the columns in la_lluna dataframe\n",
    "    la_lluna.loc[la_lluna_row.index, 'feelslike'] = row['feelslike']\n",
    "    la_lluna.loc[la_lluna_row.index, 'precip'] = row['precip']\n",
    "    la_lluna.loc[la_lluna_row.index, 'windgust'] = row['windgust']\n",
    "    la_lluna.loc[la_lluna_row.index, 'windspeed'] = row['windspeed']\n",
    "    la_lluna.loc[la_lluna_row.index, 'cloudcover'] = row['cloudcover']\n",
    "    la_lluna.loc[la_lluna_row.index, 'moonphase'] = row['moonphase']\n"
   ]
  },
  {
   "cell_type": "code",
   "execution_count": 12,
   "metadata": {},
   "outputs": [
    {
     "data": {
      "text/html": [
       "<div>\n",
       "<style scoped>\n",
       "    .dataframe tbody tr th:only-of-type {\n",
       "        vertical-align: middle;\n",
       "    }\n",
       "\n",
       "    .dataframe tbody tr th {\n",
       "        vertical-align: top;\n",
       "    }\n",
       "\n",
       "    .dataframe thead th {\n",
       "        text-align: right;\n",
       "    }\n",
       "</style>\n",
       "<table border=\"1\" class=\"dataframe\">\n",
       "  <thead>\n",
       "    <tr style=\"text-align: right;\">\n",
       "      <th></th>\n",
       "      <th>day_of_month</th>\n",
       "      <th>daily_revenue</th>\n",
       "      <th>month</th>\n",
       "      <th>year</th>\n",
       "      <th>date</th>\n",
       "      <th>weekday_str</th>\n",
       "      <th>weekday</th>\n",
       "      <th>closed</th>\n",
       "      <th>holidays</th>\n",
       "      <th>feelslike</th>\n",
       "      <th>precip</th>\n",
       "      <th>windgust</th>\n",
       "      <th>windspeed</th>\n",
       "      <th>cloudcover</th>\n",
       "      <th>moonphase</th>\n",
       "    </tr>\n",
       "  </thead>\n",
       "  <tbody>\n",
       "    <tr>\n",
       "      <th>867</th>\n",
       "      <td>3</td>\n",
       "      <td>737.55</td>\n",
       "      <td>8</td>\n",
       "      <td>2022</td>\n",
       "      <td>2022-08-03</td>\n",
       "      <td>Wednesday</td>\n",
       "      <td>3</td>\n",
       "      <td>0</td>\n",
       "      <td>0</td>\n",
       "      <td>30.4</td>\n",
       "      <td>0.000</td>\n",
       "      <td>34.9</td>\n",
       "      <td>21.6</td>\n",
       "      <td>1.3</td>\n",
       "      <td>0.20</td>\n",
       "    </tr>\n",
       "    <tr>\n",
       "      <th>839</th>\n",
       "      <td>6</td>\n",
       "      <td>548.70</td>\n",
       "      <td>7</td>\n",
       "      <td>2022</td>\n",
       "      <td>2022-07-06</td>\n",
       "      <td>Wednesday</td>\n",
       "      <td>3</td>\n",
       "      <td>0</td>\n",
       "      <td>0</td>\n",
       "      <td>25.2</td>\n",
       "      <td>1.906</td>\n",
       "      <td>38.9</td>\n",
       "      <td>25.6</td>\n",
       "      <td>38.4</td>\n",
       "      <td>0.25</td>\n",
       "    </tr>\n",
       "    <tr>\n",
       "      <th>260</th>\n",
       "      <td>18</td>\n",
       "      <td>367.25</td>\n",
       "      <td>12</td>\n",
       "      <td>2020</td>\n",
       "      <td>2020-12-18</td>\n",
       "      <td>Friday</td>\n",
       "      <td>5</td>\n",
       "      <td>0</td>\n",
       "      <td>0</td>\n",
       "      <td>14.0</td>\n",
       "      <td>17.755</td>\n",
       "      <td>21.0</td>\n",
       "      <td>16.4</td>\n",
       "      <td>84.0</td>\n",
       "      <td>0.12</td>\n",
       "    </tr>\n",
       "    <tr>\n",
       "      <th>814</th>\n",
       "      <td>11</td>\n",
       "      <td>898.19</td>\n",
       "      <td>6</td>\n",
       "      <td>2022</td>\n",
       "      <td>2022-06-11</td>\n",
       "      <td>Saturday</td>\n",
       "      <td>6</td>\n",
       "      <td>0</td>\n",
       "      <td>0</td>\n",
       "      <td>24.5</td>\n",
       "      <td>0.000</td>\n",
       "      <td>19.1</td>\n",
       "      <td>21.9</td>\n",
       "      <td>4.3</td>\n",
       "      <td>0.40</td>\n",
       "    </tr>\n",
       "    <tr>\n",
       "      <th>369</th>\n",
       "      <td>1</td>\n",
       "      <td>366.41</td>\n",
       "      <td>4</td>\n",
       "      <td>2021</td>\n",
       "      <td>2021-04-01</td>\n",
       "      <td>Thursday</td>\n",
       "      <td>4</td>\n",
       "      <td>0</td>\n",
       "      <td>0</td>\n",
       "      <td>13.2</td>\n",
       "      <td>0.000</td>\n",
       "      <td>16.7</td>\n",
       "      <td>18.3</td>\n",
       "      <td>37.4</td>\n",
       "      <td>0.63</td>\n",
       "    </tr>\n",
       "  </tbody>\n",
       "</table>\n",
       "</div>"
      ],
      "text/plain": [
       "     day_of_month  daily_revenue  month  year        date weekday_str  \\\n",
       "867             3         737.55      8  2022  2022-08-03   Wednesday   \n",
       "839             6         548.70      7  2022  2022-07-06   Wednesday   \n",
       "260            18         367.25     12  2020  2020-12-18      Friday   \n",
       "814            11         898.19      6  2022  2022-06-11    Saturday   \n",
       "369             1         366.41      4  2021  2021-04-01    Thursday   \n",
       "\n",
       "     weekday  closed  holidays  feelslike  precip  windgust  windspeed  \\\n",
       "867        3       0         0       30.4   0.000      34.9       21.6   \n",
       "839        3       0         0       25.2   1.906      38.9       25.6   \n",
       "260        5       0         0       14.0  17.755      21.0       16.4   \n",
       "814        6       0         0       24.5   0.000      19.1       21.9   \n",
       "369        4       0         0       13.2   0.000      16.7       18.3   \n",
       "\n",
       "     cloudcover  moonphase  \n",
       "867         1.3       0.20  \n",
       "839        38.4       0.25  \n",
       "260        84.0       0.12  \n",
       "814         4.3       0.40  \n",
       "369        37.4       0.63  "
      ]
     },
     "execution_count": 12,
     "metadata": {},
     "output_type": "execute_result"
    }
   ],
   "source": [
    "la_lluna.sample(5)"
   ]
  },
  {
   "cell_type": "code",
   "execution_count": 13,
   "metadata": {},
   "outputs": [],
   "source": [
    "la_lluna.to_csv(\"la_lluna.csv\", index=False)"
   ]
  },
  {
   "cell_type": "code",
   "execution_count": 15,
   "metadata": {},
   "outputs": [
    {
     "data": {
      "text/plain": [
       "day_of_month       int64\n",
       "daily_revenue    float64\n",
       "month              int64\n",
       "year               int64\n",
       "date              object\n",
       "weekday_str       object\n",
       "weekday            int64\n",
       "closed             int64\n",
       "holidays           int64\n",
       "feelslike        float64\n",
       "precip           float64\n",
       "windgust         float64\n",
       "windspeed        float64\n",
       "cloudcover       float64\n",
       "moonphase        float64\n",
       "dtype: object"
      ]
     },
     "execution_count": 15,
     "metadata": {},
     "output_type": "execute_result"
    }
   ],
   "source": [
    "la_lluna.dtypes\n",
    "\n"
   ]
  },
  {
   "cell_type": "code",
   "execution_count": 18,
   "metadata": {},
   "outputs": [
    {
     "data": {
      "text/html": [
       "<div>\n",
       "<style scoped>\n",
       "    .dataframe tbody tr th:only-of-type {\n",
       "        vertical-align: middle;\n",
       "    }\n",
       "\n",
       "    .dataframe tbody tr th {\n",
       "        vertical-align: top;\n",
       "    }\n",
       "\n",
       "    .dataframe thead th {\n",
       "        text-align: right;\n",
       "    }\n",
       "</style>\n",
       "<table border=\"1\" class=\"dataframe\">\n",
       "  <thead>\n",
       "    <tr style=\"text-align: right;\">\n",
       "      <th></th>\n",
       "      <th>day_of_month</th>\n",
       "      <th>daily_revenue</th>\n",
       "      <th>month</th>\n",
       "      <th>year</th>\n",
       "      <th>date</th>\n",
       "      <th>weekday_str</th>\n",
       "      <th>weekday</th>\n",
       "      <th>closed</th>\n",
       "      <th>holidays</th>\n",
       "      <th>feelslike</th>\n",
       "      <th>precip</th>\n",
       "      <th>windgust</th>\n",
       "      <th>windspeed</th>\n",
       "      <th>cloudcover</th>\n",
       "      <th>moonphase</th>\n",
       "    </tr>\n",
       "  </thead>\n",
       "  <tbody>\n",
       "    <tr>\n",
       "      <th>768</th>\n",
       "      <td>26</td>\n",
       "      <td>1400.02</td>\n",
       "      <td>4</td>\n",
       "      <td>2022</td>\n",
       "      <td>2022-04-26</td>\n",
       "      <td>Tuesday</td>\n",
       "      <td>2</td>\n",
       "      <td>0</td>\n",
       "      <td>0</td>\n",
       "      <td>15.3</td>\n",
       "      <td>0.0</td>\n",
       "      <td>28.4</td>\n",
       "      <td>22.4</td>\n",
       "      <td>12.8</td>\n",
       "      <td>0.84</td>\n",
       "    </tr>\n",
       "  </tbody>\n",
       "</table>\n",
       "</div>"
      ],
      "text/plain": [
       "     day_of_month  daily_revenue  month  year        date weekday_str  \\\n",
       "768            26        1400.02      4  2022  2022-04-26     Tuesday   \n",
       "\n",
       "     weekday  closed  holidays  feelslike  precip  windgust  windspeed  \\\n",
       "768        2       0         0       15.3     0.0      28.4       22.4   \n",
       "\n",
       "     cloudcover  moonphase  \n",
       "768        12.8       0.84  "
      ]
     },
     "execution_count": 18,
     "metadata": {},
     "output_type": "execute_result"
    }
   ],
   "source": [
    "la_lluna.sample()"
   ]
  },
  {
   "cell_type": "code",
   "execution_count": 21,
   "metadata": {},
   "outputs": [
    {
     "data": {
      "text/plain": [
       "day_of_month     0\n",
       "daily_revenue    0\n",
       "month            0\n",
       "year             0\n",
       "date             0\n",
       "weekday_str      0\n",
       "weekday          0\n",
       "closed           0\n",
       "holidays         0\n",
       "feelslike        0\n",
       "precip           0\n",
       "windgust         0\n",
       "windspeed        0\n",
       "cloudcover       0\n",
       "moonphase        0\n",
       "dtype: int64"
      ]
     },
     "execution_count": 21,
     "metadata": {},
     "output_type": "execute_result"
    }
   ],
   "source": [
    "la_lluna.isnull().sum()\n"
   ]
  },
  {
   "cell_type": "code",
   "execution_count": 20,
   "metadata": {},
   "outputs": [],
   "source": [
    "# fill in missing values in 'windgust' with 0\n",
    "la_lluna['windgust'].fillna(0, inplace=True)\n",
    "\n",
    "# drop rows with missing values\n",
    "la_lluna.dropna(inplace=True)\n"
   ]
  },
  {
   "cell_type": "code",
   "execution_count": 22,
   "metadata": {},
   "outputs": [
    {
     "data": {
      "text/plain": [
       "(1081, 15)"
      ]
     },
     "execution_count": 22,
     "metadata": {},
     "output_type": "execute_result"
    }
   ],
   "source": [
    "la_lluna.shape"
   ]
  },
  {
   "cell_type": "code",
   "execution_count": 27,
   "metadata": {},
   "outputs": [
    {
     "name": "stderr",
     "output_type": "stream",
     "text": [
      "C:\\Users\\germa\\AppData\\Local\\Temp\\ipykernel_11428\\1384940961.py:2: FutureWarning: The default value of numeric_only in DataFrame.corr is deprecated. In a future version, it will default to False. Select only valid columns or specify the value of numeric_only to silence this warning.\n",
      "  corr_matrix = la_lluna.corr()\n"
     ]
    },
    {
     "data": {
      "image/png": "[encoded data removed]",
      "text/plain": [
       "<Figure size 1200x1200 with 2 Axes>"
      ]
     },
     "metadata": {},
     "output_type": "display_data"
    }
   ],
   "source": [
    "# create a correlation matrix\n",
    "corr_matrix = la_lluna.corr()\n",
    "\n",
    "# plot the correlation matrix using a heatmap\n",
    "fig, ax = plt.subplots(figsize=(12, 12))\n",
    "sns.heatmap(corr_matrix, annot=True, cmap='coolwarm', ax=ax)\n",
    "plt.show()\n"
   ]
  },
  {
   "cell_type": "code",
   "execution_count": 30,
   "metadata": {},
   "outputs": [],
   "source": [
    "la_lluna['date'] = pd.to_datetime(la_lluna['year'].astype(str) + '-' + la_lluna['month'].astype(str).str.zfill(2) + '-' + la_lluna['day_of_month'].astype(str).str.zfill(2))\n",
    "la_lluna['date'] = la_lluna['date'].dt.strftime('%d-%m-%Y')\n"
   ]
  },
  {
   "cell_type": "code",
   "execution_count": 31,
   "metadata": {},
   "outputs": [
    {
     "data": {
      "text/html": [
       "<div>\n",
       "<style scoped>\n",
       "    .dataframe tbody tr th:only-of-type {\n",
       "        vertical-align: middle;\n",
       "    }\n",
       "\n",
       "    .dataframe tbody tr th {\n",
       "        vertical-align: top;\n",
       "    }\n",
       "\n",
       "    .dataframe thead th {\n",
       "        text-align: right;\n",
       "    }\n",
       "</style>\n",
       "<table border=\"1\" class=\"dataframe\">\n",
       "  <thead>\n",
       "    <tr style=\"text-align: right;\">\n",
       "      <th></th>\n",
       "      <th>day_of_month</th>\n",
       "      <th>daily_revenue</th>\n",
       "      <th>month</th>\n",
       "      <th>year</th>\n",
       "      <th>date</th>\n",
       "      <th>weekday_str</th>\n",
       "      <th>weekday</th>\n",
       "      <th>closed</th>\n",
       "      <th>holidays</th>\n",
       "      <th>feelslike</th>\n",
       "      <th>precip</th>\n",
       "      <th>windgust</th>\n",
       "      <th>windspeed</th>\n",
       "      <th>cloudcover</th>\n",
       "      <th>moonphase</th>\n",
       "    </tr>\n",
       "  </thead>\n",
       "  <tbody>\n",
       "    <tr>\n",
       "      <th>414</th>\n",
       "      <td>15</td>\n",
       "      <td>2033.61</td>\n",
       "      <td>5</td>\n",
       "      <td>2021</td>\n",
       "      <td>15-05-2021</td>\n",
       "      <td>Saturday</td>\n",
       "      <td>6</td>\n",
       "      <td>0</td>\n",
       "      <td>0</td>\n",
       "      <td>17.2</td>\n",
       "      <td>0.0</td>\n",
       "      <td>39.9</td>\n",
       "      <td>29.7</td>\n",
       "      <td>31.8</td>\n",
       "      <td>0.12</td>\n",
       "    </tr>\n",
       "  </tbody>\n",
       "</table>\n",
       "</div>"
      ],
      "text/plain": [
       "     day_of_month  daily_revenue  month  year        date weekday_str  \\\n",
       "414            15        2033.61      5  2021  15-05-2021    Saturday   \n",
       "\n",
       "     weekday  closed  holidays  feelslike  precip  windgust  windspeed  \\\n",
       "414        6       0         0       17.2     0.0      39.9       29.7   \n",
       "\n",
       "     cloudcover  moonphase  \n",
       "414        31.8       0.12  "
      ]
     },
     "execution_count": 31,
     "metadata": {},
     "output_type": "execute_result"
    }
   ],
   "source": [
    "la_lluna.sample()"
   ]
  },
  {
   "cell_type": "code",
   "execution_count": 33,
   "metadata": {},
   "outputs": [],
   "source": [
    "la_lluna.to_csv(\"la_lluna.csv\", index=False)"
   ]
  },
  {
   "cell_type": "code",
   "execution_count": null,
   "metadata": {},
   "outputs": [],
   "source": []
  },
  {
   "cell_type": "code",
   "execution_count": null,
   "metadata": {},
   "outputs": [],
   "source": []
  },
  {
   "cell_type": "code",
   "execution_count": null,
   "metadata": {},
   "outputs": [],
   "source": []
  },
  {
   "cell_type": "code",
   "execution_count": null,
   "metadata": {},
   "outputs": [],
   "source": []
  }
 ],
 "metadata": {
  "kernelspec": {
   "display_name": "ironhack",
   "language": "python",
   "name": "python3"
  },
  "language_info": {
   "codemirror_mode": {
    "name": "ipython",
    "version": 3
   },
   "file_extension": ".py",
   "mimetype": "text/x-python",
   "name": "python",
   "nbconvert_exporter": "python",
   "pygments_lexer": "ipython3",
   "version": "3.10.9"
  },
  "orig_nbformat": 4
 },
 "nbformat": 4,
 "nbformat_minor": 2
}
